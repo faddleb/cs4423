{
 "cells": [
  {
   "cell_type": "markdown",
   "metadata": {},
   "source": [
    "### CS4423 - Networks\n",
    "Prof. Götz Pfeiffer<br />\n",
    "School of Mathematics, Statistics and Applied Mathematics<br />\n",
    "NUI Galway"
   ]
  },
  {
   "cell_type": "markdown",
   "metadata": {},
   "source": [
    "#### 1. Graphs and Graph Theory\n",
    "\n",
    "# Lecture 7: Shortest Paths? Breadth First Search!"
   ]
  },
  {
   "cell_type": "code",
   "execution_count": 1,
   "metadata": {},
   "outputs": [],
   "source": [
    "import networkx as nx\n",
    "opts = { \"with_labels\": True, \"node_color\": 'y' }"
   ]
  },
  {
   "cell_type": "markdown",
   "metadata": {},
   "source": [
    "## Graph Traversal"
   ]
  },
  {
   "cell_type": "markdown",
   "metadata": {},
   "source": [
    "### Depth First Search"
   ]
  },
  {
   "cell_type": "markdown",
   "metadata": {},
   "source": [
    "[DFS](https://en.wikipedia.org/wiki/Depth-first_search)\n",
    "and [BFS](https://en.wikipedia.org/wiki/Breadth-first_search)\n",
    "are simple but efficient tree (and graph) traversal algorithms."
   ]
  },
  {
   "cell_type": "markdown",
   "metadata": {},
   "source": [
    "**DFS**: Given a rooted tree $T$ with root $x$, visit all nodes in the tree.\n",
    "* $S \\gets (x)$\n",
    "* while $S \\neq \\emptyset$:\n",
    "* &nbsp; $y \\gets S$.pop()\n",
    "* &nbsp; visit($y$)\n",
    "* &nbsp; $S$.push($y$.children)\n",
    "\n",
    "Here $S$ is a [**stack**](https://en.wikipedia.org/wiki/Stack_(abstract_data_type)) (LIFO):\n",
    "$S$.pop() yields the **newest** entry."
   ]
  },
  {
   "cell_type": "code",
   "execution_count": 2,
   "metadata": {},
   "outputs": [],
   "source": [
    "n = 10\n",
    "T = nx.random_tree(n)\n",
    "nx.draw(T, **opts)"
   ]
  },
  {
   "cell_type": "code",
   "execution_count": 3,
   "metadata": {},
   "outputs": [
    {
     "name": "stdout",
     "output_type": "stream",
     "text": [
      "0 [5]\n",
      "5 [1, 4]\n",
      "4 [1, 2, 7, 8]\n",
      "8 [1, 2, 7]\n",
      "7 [1, 2, 6]\n",
      "6 [1, 2]\n",
      "2 [1, 9]\n",
      "9 [1]\n",
      "1 [3]\n",
      "3 []\n"
     ]
    }
   ],
   "source": [
    "TT = T.copy()\n",
    "x = 0\n",
    "stack = [x]\n",
    "while len(stack) > 0:\n",
    "    y = stack.pop()\n",
    "    stack.extend(TT[y])\n",
    "    TT.remove_node(y)\n",
    "    print(y, stack)\n"
   ]
  },
  {
   "cell_type": "markdown",
   "metadata": {},
   "source": [
    "### Breadth First Search"
   ]
  },
  {
   "cell_type": "markdown",
   "metadata": {},
   "source": [
    "**BFS**: Given a rooted tree $T$ with root $x$, visit all nodes in the tree.\n",
    "* $Q \\gets (x)$\n",
    "* while $Q \\neq \\emptyset$:\n",
    "* &nbsp; $y \\gets Q$.pop() \n",
    "* &nbsp; visit($y$) \n",
    "* &nbsp; $Q$.push($y$.children)\n",
    "\n",
    "Here, $Q$ is a [**queue**](https://en.wikipedia.org/wiki/Queue_(abstract_data_type)) (FIFO):\n",
    "$Q$.pop() yields the **oldest** entry."
   ]
  },
  {
   "cell_type": "code",
   "execution_count": 4,
   "metadata": {},
   "outputs": [
    {
     "name": "stdout",
     "output_type": "stream",
     "text": [
      "0 [5]\n",
      "5 [1, 4]\n",
      "1 [4, 3]\n",
      "4 [3, 2, 7, 8]\n",
      "3 [2, 7, 8]\n",
      "2 [7, 8, 9]\n",
      "7 [8, 9, 6]\n",
      "8 [9, 6]\n",
      "9 [6]\n",
      "6 []\n"
     ]
    }
   ],
   "source": [
    "TT = T.copy()\n",
    "x = 0\n",
    "queue = [x]\n",
    "while len(queue) > 0:\n",
    "    y = queue.pop(0)\n",
    "    queue.extend(TT[y])\n",
    "    TT.remove_node(y)\n",
    "    print(y, queue)"
   ]
  },
  {
   "cell_type": "markdown",
   "metadata": {},
   "source": [
    "### Alternative Implementations\n",
    "\n",
    "Both DFS and BFS are more like strategies, rather than specific algorithms.\n",
    "Different problems might require different implementations.\n",
    "Sometimes, the stack, or the queue don't have to be made explicit:\n",
    "\n",
    "* In a recursive implementation, DFS can make use of the (`python`) interpreters\n",
    "  function call stack.\n",
    "  \n",
    "* BFS can take advantage of the fact that some types of lists in a `python` `for` loop\n",
    "  are largely organized as lists.\n"
   ]
  },
  {
   "cell_type": "markdown",
   "metadata": {},
   "source": [
    "* DFS on a tree:"
   ]
  },
  {
   "cell_type": "code",
   "execution_count": 5,
   "metadata": {},
   "outputs": [],
   "source": [
    "def dfs(tree, x):\n",
    "    print(x, end=', ')\n",
    "    tree.nodes[x]['seen'] = True\n",
    "    for z in tree[x]:\n",
    "        if not tree.nodes[z]['seen']:\n",
    "            dfs(tree, z)    "
   ]
  },
  {
   "cell_type": "code",
   "execution_count": 6,
   "metadata": {},
   "outputs": [],
   "source": [
    "TT = T.copy()\n",
    "for x in TT:\n",
    "    TT.nodes[x]['seen'] = False"
   ]
  },
  {
   "cell_type": "code",
   "execution_count": 7,
   "metadata": {},
   "outputs": [
    {
     "name": "stdout",
     "output_type": "stream",
     "text": [
      "0, 5, 1, 3, 4, 2, 9, 7, 6, 8, "
     ]
    }
   ],
   "source": [
    "dfs(TT, 0)"
   ]
  },
  {
   "cell_type": "markdown",
   "metadata": {},
   "source": [
    "* BFS on a tree:"
   ]
  },
  {
   "cell_type": "code",
   "execution_count": 8,
   "metadata": {},
   "outputs": [
    {
     "name": "stdout",
     "output_type": "stream",
     "text": [
      "0, 5, 1, 4, 3, 2, 7, 8, 9, 6, "
     ]
    }
   ],
   "source": [
    "TT = T.copy()\n",
    "for x in TT:\n",
    "    TT.nodes[x]['seen'] = False\n",
    "\n",
    "Q = [0]\n",
    "TT.nodes[0]['seen'] = True\n",
    "for y in Q:\n",
    "    print(y, end=', ')\n",
    "    for z in TT[y]:\n",
    "        if not TT.nodes[z]['seen']:\n",
    "            Q.append(z)\n",
    "            TT.nodes[z]['seen'] = True\n"
   ]
  },
  {
   "cell_type": "code",
   "execution_count": 9,
   "metadata": {},
   "outputs": [
    {
     "data": {
      "image/png": "[encoded data removed]",
      "text/plain": [
       "<Figure size 432x288 with 1 Axes>"
      ]
     },
     "metadata": {},
     "output_type": "display_data"
    }
   ],
   "source": [
    "nx.draw(T, **opts)"
   ]
  },
  {
   "cell_type": "markdown",
   "metadata": {},
   "source": [
    "## Shortest Paths\n",
    "\n",
    "* Recall that a __path__ in a network $G = (X, E)$\n",
    "is a sequence $p = (x_0, x_1, \\dots, x_k)$ of\n",
    "nodes $x_i \\in X$, $i = 0, \\dots, k$, such that any\n",
    "pair of consecutive nodes forms an edge in $G$, i.e.,\n",
    "$\\{x_{i-1}, x_i\\} \\in E$ for all $i = 1, \\dots, k$.\n",
    "\n",
    "* The __length__ $l(p)$ of the path $p$ is the\n",
    "number of edges, $l(p) = k$."
   ]
  },
  {
   "cell_type": "markdown",
   "metadata": {},
   "source": [
    "* In many practical applications it is of interest to find\n",
    "for a pair $x, y$ of nodes, one or all the paths form $x$ to $y$\n",
    "connecting the two nodes with the fewest number of edges possible.\n",
    "\n",
    "* This is a more complex measure on a network than, say, the degree\n",
    "of a node, and  we will need a more complex procedure, that is: an\n",
    "algorithm, in order to answer such questions systematically.\n",
    "Let's start with a proper definition."
   ]
  },
  {
   "cell_type": "markdown",
   "metadata": {},
   "source": [
    "<div class=\"alert alert-danger\">\n",
    "\n",
    "**Definition.** Let $G = (X, E)$ be a simple graph and let\n",
    "$x, y \\in X$.  Let $P(x, y)$ be the set of all paths from $x$ to $y$.\n",
    "Then the __distance__ $d(x, y)$ from $x$ to $y$ is\n",
    "$$d(x, y) = \\min \\{ l(p) : p \\in P(x, y) \\},$$\n",
    "the shortest possible length of a path from $x$ to $y$, and a __shortest path__ from $x$ to $y$ is a path $p \\in P(x, y)$ of length $l(p) = d(x, y)$.\n",
    "\n",
    "The __diameter__ $\\mathrm{diam}(G)$ of the network $G$ is the length of the longest shortest path between any two nodes,\n",
    "$$\\mathrm{diam}(G) = \\max \\{ d(x, y) : x, y \\in X \\}.$$\n",
    "</div>"
   ]
  },
  {
   "cell_type": "markdown",
   "metadata": {},
   "source": [
    "### Breadth First Search for Distance\n",
    "\n",
    "* Now we consider the following problem: Given a node $x \\in X$, what\n",
    "are the distances $d(x, y)$ for all nodes $y \\in X$?  \n",
    "\n",
    "* BFS provides a systematic\n",
    "procedure for finding these distances, and the shortest paths through\n",
    "which they are realized."
   ]
  },
  {
   "cell_type": "markdown",
   "metadata": {},
   "source": [
    "In order to describe the algorithm step by step, let's call a node $y$\n",
    "a __neighbor__ of node $x$, if $\\{x, y\\}$ is an\n",
    "edge, and let's denote by\n",
    "$$N(x) = \\{ y \\in X : \\{x, y\\} \\in E \\}$$\n",
    "the set of all neighbors of node $x$.  The algorithm works through the\n",
    "network **layer by layer**, starting with the given vertex $x$ at layer\n",
    "$0$ and all its friends at layer $1$. It then finds the friends of the\n",
    "friends at layer $2$, and so on, until every node that can be reached\n",
    "from $x$ by a path has been recorded, taking care that no node gets\n",
    "recorded twice.  The layer of a node then corresponds to its distance\n",
    "from the given node $x$."
   ]
  },
  {
   "cell_type": "markdown",
   "metadata": {},
   "source": [
    "In practice, as in the following example, the layer does not\n",
    "need to be made explicit."
   ]
  },
  {
   "cell_type": "code",
   "execution_count": 10,
   "metadata": {},
   "outputs": [],
   "source": [
    "G = nx.read_adjlist(\"data/bfs.adj\")"
   ]
  },
  {
   "cell_type": "code",
   "execution_count": 11,
   "metadata": {},
   "outputs": [
    {
     "data": {
      "image/png": "[encoded data removed]",
      "text/plain": [
       "<Figure size 432x288 with 1 Axes>"
      ]
     },
     "metadata": {},
     "output_type": "display_data"
    }
   ],
   "source": [
    "nx.draw(G, **opts)"
   ]
  },
  {
   "cell_type": "code",
   "execution_count": 12,
   "metadata": {},
   "outputs": [],
   "source": [
    "for x in G: \n",
    "    G.nodes[x]['seen'] = False"
   ]
  },
  {
   "cell_type": "code",
   "execution_count": 13,
   "metadata": {},
   "outputs": [
    {
     "data": {
      "text/plain": [
       "{'seen': False}"
      ]
     },
     "execution_count": 13,
     "metadata": {},
     "output_type": "execute_result"
    }
   ],
   "source": [
    "G.nodes['A']"
   ]
  },
  {
   "cell_type": "code",
   "execution_count": 14,
   "metadata": {},
   "outputs": [],
   "source": [
    "seen = []"
   ]
  },
  {
   "cell_type": "code",
   "execution_count": 15,
   "metadata": {},
   "outputs": [
    {
     "data": {
      "text/plain": [
       "['A']"
      ]
     },
     "execution_count": 15,
     "metadata": {},
     "output_type": "execute_result"
    }
   ],
   "source": [
    "seen.append('A')\n",
    "G.nodes['A']['seen'] = True\n",
    "seen"
   ]
  },
  {
   "cell_type": "code",
   "execution_count": 16,
   "metadata": {},
   "outputs": [
    {
     "data": {
      "text/plain": [
       "['B', 'C', 'D', 'E']"
      ]
     },
     "execution_count": 16,
     "metadata": {},
     "output_type": "execute_result"
    }
   ],
   "source": [
    "list(G.neighbors('A'))"
   ]
  },
  {
   "cell_type": "code",
   "execution_count": 17,
   "metadata": {},
   "outputs": [],
   "source": [
    "for x in G.neighbors('A'):\n",
    "    seen.append(x)\n",
    "    G.nodes[x]['seen'] = True"
   ]
  },
  {
   "cell_type": "code",
   "execution_count": 18,
   "metadata": {},
   "outputs": [
    {
     "data": {
      "text/plain": [
       "['A', 'B', 'C', 'D', 'E']"
      ]
     },
     "execution_count": 18,
     "metadata": {},
     "output_type": "execute_result"
    }
   ],
   "source": [
    "seen"
   ]
  },
  {
   "cell_type": "code",
   "execution_count": 19,
   "metadata": {},
   "outputs": [
    {
     "data": {
      "text/plain": [
       "['A', 'B', 'C', 'D', 'E', 'F']"
      ]
     },
     "execution_count": 19,
     "metadata": {},
     "output_type": "execute_result"
    }
   ],
   "source": [
    "node = 'B'\n",
    "for x in G.neighbors(node):\n",
    "    if not G.nodes[x]['seen']:\n",
    "        seen.append(x)\n",
    "        G.nodes[x]['seen'] = True\n",
    "seen"
   ]
  },
  {
   "cell_type": "code",
   "execution_count": 20,
   "metadata": {},
   "outputs": [
    {
     "data": {
      "text/plain": [
       "['A', 'B', 'C', 'D', 'E', 'F']"
      ]
     },
     "execution_count": 20,
     "metadata": {},
     "output_type": "execute_result"
    }
   ],
   "source": [
    "node = 'C'\n",
    "for x in G.neighbors(node):\n",
    "    if not G.nodes[x]['seen']:\n",
    "        seen.append(x)\n",
    "        G.nodes[x]['seen'] = True\n",
    "seen"
   ]
  },
  {
   "cell_type": "markdown",
   "metadata": {},
   "source": [
    "... and so on, until there are no more nodes to be processed."
   ]
  },
  {
   "cell_type": "markdown",
   "metadata": {},
   "source": [
    "When this process is formulated as an algorithm, we use a __queue__\n",
    "(a first-in first-out buffer) to keep track of the node\n",
    "whose neighbors are currently under consideration.\n",
    "A queue is an array of values that comes with two basic operations:\n",
    "* one can __push__ a value to the end of the queue, and\n",
    "* one can __pop__ a value off the top of the queue (provided\n",
    "the queue is not empty).\n",
    "\n",
    "It can be shown that this version of the algorithm\n",
    "in the common case of a sparse network\n",
    "has complexity $O(n)$, which is as good as one could hope for."
   ]
  },
  {
   "cell_type": "markdown",
   "metadata": {},
   "source": [
    "<div class=\"alert\">\n",
    "\n",
    "**Breadth First Search.**\n",
    "Given a simple graph\n",
    "$G = (X, E)$ and a vertex $x \\in X$,\n",
    "determine $d(x, y)$ for all nodes $y \\in X$.\n",
    "\n",
    "1. [Initialize.]  Suppose that $X = \\{x_0, x_1, \\ldots, x_{n-1}\\}$\n",
    "and that $x = x_j$.  Set $d_i \\gets \\perp$ (undefined) for $i = 0, \\dots, n{-}1$.\n",
    "Set $d_j \\gets 0$ and initialize a queue $Q \\gets (x_j)$.\n",
    "\n",
    "2. [Loop.] While $Q \\neq \\emptyset$:\n",
    "   * pop node $x_k$ off $Q$\n",
    "   * for each neighbor $x_l$ of $x_k$ with $d_l = \\perp$:\n",
    "       * push $x_l$ onto $Q$ and set $d_l \\gets d_k + 1$.\n",
    "\n",
    "3. [Stop.] Return the array $(d_0, \\dots, d_{n-1})$.\n",
    "\n",
    "</div>"
   ]
  },
  {
   "cell_type": "code",
   "execution_count": 21,
   "metadata": {},
   "outputs": [],
   "source": [
    "from queue import Queue"
   ]
  },
  {
   "cell_type": "code",
   "execution_count": 22,
   "metadata": {},
   "outputs": [],
   "source": [
    "for x in G: \n",
    "    G.nodes[x]['d'] = -1 # undefined\n",
    "\n",
    "x = 'B'\n",
    "G.nodes[x]['d'] = 0\n",
    "q = Queue()\n",
    "q.put(x)"
   ]
  },
  {
   "cell_type": "code",
   "execution_count": 23,
   "metadata": {},
   "outputs": [
    {
     "data": {
      "text/plain": [
       "['B']"
      ]
     },
     "execution_count": 23,
     "metadata": {},
     "output_type": "execute_result"
    }
   ],
   "source": [
    "list(q.queue)"
   ]
  },
  {
   "cell_type": "code",
   "execution_count": 24,
   "metadata": {},
   "outputs": [
    {
     "name": "stdout",
     "output_type": "stream",
     "text": [
      "B :  ['A', 'C', 'F']\n",
      "A :  ['C', 'F', 'D', 'E']\n",
      "C :  ['F', 'D', 'E']\n",
      "F :  ['D', 'E', 'I']\n",
      "D :  ['E', 'I', 'G', 'H']\n",
      "E :  ['I', 'G', 'H']\n",
      "I :  ['G', 'H', 'K']\n",
      "G :  ['H', 'K', 'J']\n",
      "H :  ['K', 'J']\n",
      "K :  ['J']\n",
      "J :  []\n"
     ]
    }
   ],
   "source": [
    "while not q.empty():\n",
    "    x = q.get()\n",
    "    for y in G.neighbors(x):\n",
    "        if G.nodes[y]['d'] < 0: # undefined?\n",
    "            G.nodes[y]['d'] = G.nodes[x]['d'] + 1\n",
    "            q.put(y)\n",
    "    print(x, \": \", list(q.queue))"
   ]
  },
  {
   "cell_type": "code",
   "execution_count": 25,
   "metadata": {},
   "outputs": [
    {
     "name": "stdout",
     "output_type": "stream",
     "text": [
      "[1, 0, 1, 2, 2, 1, 3, 3, 2, 4, 3]\n"
     ]
    }
   ],
   "source": [
    "print([G.nodes[x]['d'] for x in G])"
   ]
  },
  {
   "cell_type": "code",
   "execution_count": 26,
   "metadata": {},
   "outputs": [
    {
     "name": "stdout",
     "output_type": "stream",
     "text": [
      "[('A', 1), ('B', 0), ('C', 1), ('D', 2), ('E', 2), ('F', 1), ('G', 3), ('H', 3), ('I', 2), ('J', 4), ('K', 3)]\n"
     ]
    }
   ],
   "source": [
    "print(list(G.nodes.data('d')))"
   ]
  },
  {
   "cell_type": "markdown",
   "metadata": {},
   "source": [
    "**Variants.**\n",
    "BFS is an extremely versatile algorithm, which applies in many different\n",
    "situations and can be adapted to produce additional information\n",
    "on a network.\n",
    "\n",
    "For example, BFS run on a node $x$ in a network $G = (X, E)$\n",
    "determines the __connected component__ of $X$ in $G$\n",
    "(as the set of all nodes that get a distance value assigned).\n",
    "\n",
    "With little more work (and an additional array) BFS can produce\n",
    "a __spanning tree__ (or __shortest path tree__).\n",
    "Here, whenever node $x_l$ is pushed onto $Q$, it is assigned\n",
    "the current node $x_k$ (in the additional array)\n",
    "as its predecessor on a shortest path from $x_j$ to $x_l$.\n",
    "The subgraph of the network consisting of these edges is a tree.\n",
    "As a tree, it has exactly one path between the given node $x$\n",
    "and any of its\n",
    "vertices $y$ and, by construction, this path is a shortest path\n",
    "between $x$ and $y$.\n"
   ]
  },
  {
   "cell_type": "code",
   "execution_count": 27,
   "metadata": {},
   "outputs": [],
   "source": [
    "for x in G: \n",
    "    G.nodes[x]['d'] = -1 # undefined\n",
    "\n",
    "x = 'A'\n",
    "G.nodes[x]['d'] = 0\n",
    "q = Queue()\n",
    "q.put(x)\n",
    "\n",
    "for e in G.edges:\n",
    "    G.edges[e]['seen'] = False"
   ]
  },
  {
   "cell_type": "code",
   "execution_count": 28,
   "metadata": {
    "scrolled": true
   },
   "outputs": [
    {
     "name": "stdout",
     "output_type": "stream",
     "text": [
      "[('A', 'B', {'seen': False}), ('A', 'C', {'seen': False}), ('A', 'D', {'seen': False}), ('A', 'E', {'seen': False}), ('B', 'C', {'seen': False}), ('B', 'F', {'seen': False}), ('C', 'F', {'seen': False}), ('D', 'G', {'seen': False}), ('D', 'H', {'seen': False}), ('E', 'H', {'seen': False}), ('F', 'I', {'seen': False}), ('G', 'I', {'seen': False}), ('G', 'J', {'seen': False}), ('H', 'J', {'seen': False}), ('I', 'K', {'seen': False}), ('J', 'K', {'seen': False})]\n"
     ]
    }
   ],
   "source": [
    "print(list(G.edges.data()))"
   ]
  },
  {
   "cell_type": "code",
   "execution_count": 29,
   "metadata": {},
   "outputs": [
    {
     "name": "stdout",
     "output_type": "stream",
     "text": [
      "A :  ['B', 'C', 'D', 'E']\n",
      "B :  ['C', 'D', 'E', 'F']\n",
      "C :  ['D', 'E', 'F']\n",
      "D :  ['E', 'F', 'G', 'H']\n",
      "E :  ['F', 'G', 'H']\n",
      "F :  ['G', 'H', 'I']\n",
      "G :  ['H', 'I', 'J']\n",
      "H :  ['I', 'J']\n",
      "I :  ['J', 'K']\n",
      "J :  ['K']\n",
      "K :  []\n"
     ]
    }
   ],
   "source": [
    "while not q.empty():\n",
    "    x = q.get()\n",
    "    for y in G.neighbors(x):\n",
    "        if G.nodes[y]['d'] < 0: # undefined?\n",
    "            G.nodes[y]['d'] = G.nodes[x]['d'] + 1\n",
    "            q.put(y)\n",
    "            G.edges[x, y]['seen'] = True\n",
    "    print(x, \": \", list(q.queue))"
   ]
  },
  {
   "cell_type": "code",
   "execution_count": 30,
   "metadata": {},
   "outputs": [],
   "source": [
    "sub = [e for e in G.edges if G.edges[e]['seen']]"
   ]
  },
  {
   "cell_type": "code",
   "execution_count": 31,
   "metadata": {},
   "outputs": [
    {
     "data": {
      "image/png": "[encoded data removed]",
      "text/plain": [
       "<Figure size 432x288 with 1 Axes>"
      ]
     },
     "metadata": {},
     "output_type": "display_data"
    }
   ],
   "source": [
    "nx.draw(G.edge_subgraph(sub), **opts)"
   ]
  },
  {
   "cell_type": "markdown",
   "metadata": {},
   "source": [
    "Or, one could highlight the spanning tree inside the graph by using, say,\n",
    "red as color for the spanning edges (and blue for the rest)."
   ]
  },
  {
   "cell_type": "code",
   "execution_count": 32,
   "metadata": {},
   "outputs": [
    {
     "data": {
      "image/png": "[encoded data removed]",
      "text/plain": [
       "<Figure size 432x288 with 1 Axes>"
      ]
     },
     "metadata": {},
     "output_type": "display_data"
    }
   ],
   "source": [
    "colors = ['red' if G.edges[e]['seen'] else 'blue' for e in G.edges]\n",
    "nx.draw(G, edge_color = colors, with_labels = True, width=2.0)"
   ]
  },
  {
   "cell_type": "markdown",
   "metadata": {},
   "source": [
    "Of course, in order to find distances, or shortest paths\n",
    "between **all pairs** of nodes $x$ and $y$ in a network, one can\n",
    "perform BFS for each of the vertices $x \\in X$ in turn.\n",
    "\n",
    "The algorithm and its variants also works on directed networks,\n",
    "but the results then will have to be interpreted in the context of\n",
    "directed networks.\n",
    "\n",
    "More about BFS can be found in [Newman, Section 10.3].\n",
    "\n",
    "And in the next lecture.\n"
   ]
  },
  {
   "cell_type": "markdown",
   "metadata": {},
   "source": [
    "##  Code Corner"
   ]
  },
  {
   "cell_type": "markdown",
   "metadata": {},
   "source": [
    "### `queue`"
   ]
  },
  {
   "cell_type": "markdown",
   "metadata": {},
   "source": [
    "* `Queue`: [[doc]](https://docs.python.org/3/library/queue.html)"
   ]
  },
  {
   "cell_type": "markdown",
   "metadata": {},
   "source": [
    "### `networkx`"
   ]
  },
  {
   "cell_type": "markdown",
   "metadata": {},
   "source": [
    "* `remove_node`: [[doc]](https://networkx.github.io/documentation/stable/reference/classes/generated/networkx.Graph.remove_node.html)\n",
    "\n",
    "\n",
    "* `edge_subgraph`: [[doc]](https://networkx.github.io/documentation/stable/reference/classes/generated/networkx.Graph.edge_subgraph.html)"
   ]
  },
  {
   "cell_type": "markdown",
   "metadata": {},
   "source": [
    "## Exercises."
   ]
  },
  {
   "cell_type": "markdown",
   "metadata": {},
   "source": [
    "1. Compute the distances $d(x, y)$ for all vertices $x$ and $y$ in the above graph `G`. \n",
    "1. Hence determine the diameter $\\mathrm{diam}(G)$.\n",
    "1. Construct a (simple) graph $H$ with edges \n",
    "<pre>\n",
    "    1-9, 9-3, 9-12, 9-15, 9-2, 9-13, 5-11, 5-14, 5-3, 11-14, \n",
    "    11-4, 14-12, 14-4, 12-15, 15-7, 2-6, 2-7, 13-10, 4-7, 7-8\n",
    "</pre>\n",
    "1. Using BFS, construct a spanning tree of $H$, starting with vertex $1$.\n",
    "1. Compute a matrix $D= (d_{ij})$ with entries\n",
    "$$\n",
    "d_{ij} = d(i, j),\n",
    "$$\n",
    "the distance between nodes $i$ and $j$ in $H$."
   ]
  },
  {
   "cell_type": "code",
   "execution_count": null,
   "metadata": {},
   "outputs": [],
   "source": []
  }
 ],
 "metadata": {
  "kernelspec": {
   "display_name": "Python 3",
   "language": "python",
   "name": "python3"
  },
  "language_info": {
   "codemirror_mode": {
    "name": "ipython",
    "version": 3
   },
   "file_extension": ".py",
   "mimetype": "text/x-python",
   "name": "python",
   "nbconvert_exporter": "python",
   "pygments_lexer": "ipython3",
   "version": "3.7.6"
  }
 },
 "nbformat": 4,
 "nbformat_minor": 2
}
