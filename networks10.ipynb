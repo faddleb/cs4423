{
 "cells": [
  {
   "cell_type": "markdown",
   "metadata": {},
   "source": [
    "### CS4423 - Networks\n",
    "Prof. Götz Pfeiffer<br />\n",
    "School of Mathematics, Statistics and Applied Mathematics<br />\n",
    "NUI Galway"
   ]
  },
  {
   "cell_type": "markdown",
   "metadata": {},
   "source": [
    "#### 2. Centrality Measures\n",
    "\n",
    "# Lecture 10: Closeness and Betweenness  Centrality"
   ]
  },
  {
   "cell_type": "markdown",
   "metadata": {},
   "source": [
    "We study two more centrality measures\n",
    "* closeness centrality and\n",
    "* betweenness centrality\n",
    "\n",
    "and compare these to the centralities studied earlier in the\n",
    "example of the marital ties graph of the Florentine families.\n",
    "\n",
    "Import the packages and set standard drawing options:"
   ]
  },
  {
   "cell_type": "code",
   "execution_count": 1,
   "metadata": {},
   "outputs": [],
   "source": [
    "import networkx as nx\n",
    "import pandas as pd\n",
    "from queue import Queue\n",
    "opts = { \"with_labels\": True, \"node_color\": 'y'}"
   ]
  },
  {
   "cell_type": "markdown",
   "metadata": {},
   "source": [
    "Next, recover the graph `G` of marital ties between Florentine families, together with the node attributes we have already determined."
   ]
  },
  {
   "cell_type": "code",
   "execution_count": 2,
   "metadata": {},
   "outputs": [
    {
     "name": "stderr",
     "output_type": "stream",
     "text": [
      "/Users/faddlebadiane/anaconda3/lib/python3.7/site-packages/networkx/readwrite/nx_yaml.py:99: YAMLLoadWarning: calling yaml.load() without Loader=... is deprecated, as the default Loader is unsafe. Please read https://msg.pyyaml.org/load for full details.\n",
      "  G = yaml.load(path)\n"
     ]
    },
    {
     "data": {
      "text/plain": [
       "{'$C_i^D$': 0.4,\n",
       " '$c_i^E$': 0.4303154258349922,\n",
       " 'degree': 6,\n",
       " 'priorates': 53,\n",
       " 'wealth': 103}"
      ]
     },
     "execution_count": 2,
     "metadata": {},
     "output_type": "execute_result"
    }
   ],
   "source": [
    "G = nx.read_yaml(\"data/florentine.yml\")\n",
    "G.nodes['Medici']"
   ]
  },
  {
   "cell_type": "code",
   "execution_count": 3,
   "metadata": {},
   "outputs": [
    {
     "data": {
      "text/plain": [
       "16"
      ]
     },
     "execution_count": 3,
     "metadata": {},
     "output_type": "execute_result"
    }
   ],
   "source": [
    "G.number_of_nodes()"
   ]
  },
  {
   "cell_type": "markdown",
   "metadata": {},
   "source": [
    "## Closeness Centrality"
   ]
  },
  {
   "cell_type": "markdown",
   "metadata": {},
   "source": [
    "A node $x$ in a network can be regarded as being central, if it is **close** to (many) other nodes, \n",
    "as it can then quickly interact with them.  A simple way to measure closeness in this sense\n",
    "is based on the sum of all the distances to the other nodes, as follows."
   ]
  },
  {
   "cell_type": "markdown",
   "metadata": {},
   "source": [
    "<div class=\"alert alert-danger\">\n",
    "\n",
    "**Definition (Closeness Centrality).**\n",
    "In a simple, connected graph $G$, the **closeness centrality** $c_i^C$ of node $i$\n",
    "is defined as\n",
    "$$\n",
    "c_i^C = \\Bigl(\\sum_j d_{ij}\\Bigr)^{-1}.\n",
    "$$\n",
    "\n",
    "The **normalized closeness centrality** of node $i$, defined as\n",
    "$$\n",
    "C_i^C = (n-1) c_i^C\n",
    "$$\n",
    "takes values in the interval $[0, 1]$.\n",
    "</div>"
   ]
  },
  {
   "cell_type": "markdown",
   "metadata": {},
   "source": [
    "**BFS again.**  \n",
    "\n",
    "* The following `python` function implements\n",
    "BFS for shortest distance from a previous lecture.  \n",
    "* It takes a graph $G = (X, E)$ and a vertex $x \\in X$\n",
    "as its arguments. \n",
    "* It returns a **dictionary**, which for each node as key has the distance to\n",
    "$x$ as its value."
   ]
  },
  {
   "cell_type": "code",
   "execution_count": 4,
   "metadata": {},
   "outputs": [],
   "source": [
    "def distances(G, node):\n",
    "    \n",
    "    # 1. init: set up the dictionary and a queue\n",
    "    d = { node: 0 }\n",
    "    q = Queue()\n",
    "    q.put(node)\n",
    "    \n",
    "    # 2. loop\n",
    "    while not q.empty():\n",
    "        x = q.get()\n",
    "        for y in G.neighbors(x):\n",
    "            if y not in d:\n",
    "                d[y] = d[x] + 1\n",
    "                q.put(y)\n",
    "    \n",
    "    # 3. stop here\n",
    "    return d"
   ]
  },
  {
   "cell_type": "code",
   "execution_count": 5,
   "metadata": {},
   "outputs": [
    {
     "name": "stdout",
     "output_type": "stream",
     "text": [
      "{'Medici': 0, 'Acciaiuoli': 1, 'Albizzi': 1, 'Barbadori': 1, 'Ridolfi': 1, 'Salviati': 1, 'Tornabuoni': 1, 'Ginori': 2, 'Guadagni': 2, 'Castellani': 2, 'Strozzi': 2, 'Pazzi': 2, 'Bischeri': 3, 'Lamberteschi': 3, 'Peruzzi': 3}\n"
     ]
    }
   ],
   "source": [
    "d = distances(G, 'Medici')\n",
    "print(d)"
   ]
  },
  {
   "cell_type": "code",
   "execution_count": 6,
   "metadata": {},
   "outputs": [
    {
     "data": {
      "text/plain": [
       "{'Pucci': 0}"
      ]
     },
     "execution_count": 6,
     "metadata": {},
     "output_type": "execute_result"
    }
   ],
   "source": [
    "distances(G, 'Pucci')"
   ]
  },
  {
   "cell_type": "markdown",
   "metadata": {},
   "source": [
    "* If the sum of the distances is $0$ (why?), computing the closeness will most likely\n",
    "cause a division-by-zero error.\n",
    "\n",
    "* From now on, we will work only with the large connected component of `G`, and\n",
    "call it `GG`."
   ]
  },
  {
   "cell_type": "code",
   "execution_count": 7,
   "metadata": {},
   "outputs": [],
   "source": [
    "cc = list(nx.connected_components(G))[0]\n",
    "GG = G.subgraph(cc)\n",
    "n = GG.number_of_nodes()"
   ]
  },
  {
   "cell_type": "code",
   "execution_count": 8,
   "metadata": {},
   "outputs": [],
   "source": [
    "nx.draw(GG, **opts)"
   ]
  },
  {
   "cell_type": "code",
   "execution_count": 9,
   "metadata": {},
   "outputs": [
    {
     "data": {
      "text/plain": [
       "25"
      ]
     },
     "execution_count": 9,
     "metadata": {},
     "output_type": "execute_result"
    }
   ],
   "source": [
    "d = distances(GG, 'Medici')\n",
    "sum(d.values())"
   ]
  },
  {
   "cell_type": "markdown",
   "metadata": {},
   "source": [
    "* Use `distances` to compute the normalized closeness centrality according to the above\n",
    "definition."
   ]
  },
  {
   "cell_type": "code",
   "execution_count": 10,
   "metadata": {},
   "outputs": [
    {
     "data": {
      "text/plain": [
       "{'Acciaiuoli': 0.3684210526315789,\n",
       " 'Albizzi': 0.4827586206896552,\n",
       " 'Barbadori': 0.4375,\n",
       " 'Bischeri': 0.4,\n",
       " 'Castellani': 0.3888888888888889,\n",
       " 'Ginori': 0.3333333333333333,\n",
       " 'Guadagni': 0.4666666666666667,\n",
       " 'Lamberteschi': 0.32558139534883723,\n",
       " 'Medici': 0.56,\n",
       " 'Pazzi': 0.2857142857142857,\n",
       " 'Peruzzi': 0.3684210526315789,\n",
       " 'Ridolfi': 0.5,\n",
       " 'Salviati': 0.3888888888888889,\n",
       " 'Strozzi': 0.4375,\n",
       " 'Tornabuoni': 0.4827586206896552}"
      ]
     },
     "execution_count": 10,
     "metadata": {},
     "output_type": "execute_result"
    }
   ],
   "source": [
    "close_cen = { x : (n-1)/sum(distances(GG, x).values()) for x in GG }\n",
    "close_cen"
   ]
  },
  {
   "cell_type": "markdown",
   "metadata": {},
   "source": [
    "* Compare the results to the `networkx` version of closeness:"
   ]
  },
  {
   "cell_type": "code",
   "execution_count": 11,
   "metadata": {},
   "outputs": [
    {
     "data": {
      "text/plain": [
       "{'Acciaiuoli': 0.3684210526315789,\n",
       " 'Albizzi': 0.4827586206896552,\n",
       " 'Barbadori': 0.4375,\n",
       " 'Bischeri': 0.4,\n",
       " 'Castellani': 0.3888888888888889,\n",
       " 'Ginori': 0.3333333333333333,\n",
       " 'Guadagni': 0.4666666666666667,\n",
       " 'Lamberteschi': 0.32558139534883723,\n",
       " 'Medici': 0.56,\n",
       " 'Pazzi': 0.2857142857142857,\n",
       " 'Peruzzi': 0.3684210526315789,\n",
       " 'Ridolfi': 0.5,\n",
       " 'Salviati': 0.3888888888888889,\n",
       " 'Strozzi': 0.4375,\n",
       " 'Tornabuoni': 0.4827586206896552}"
      ]
     },
     "execution_count": 11,
     "metadata": {},
     "output_type": "execute_result"
    }
   ],
   "source": [
    "nx.closeness_centrality(GG)"
   ]
  },
  {
   "cell_type": "markdown",
   "metadata": {},
   "source": [
    "* Let's add those measurements to the table."
   ]
  },
  {
   "cell_type": "code",
   "execution_count": 12,
   "metadata": {},
   "outputs": [],
   "source": [
    "nx.set_node_attributes(G, close_cen, '$C_i^C$')"
   ]
  },
  {
   "cell_type": "code",
   "execution_count": 13,
   "metadata": {},
   "outputs": [
    {
     "data": {
      "text/html": [
       "<div>\n",
       "<style scoped>\n",
       "    .dataframe tbody tr th:only-of-type {\n",
       "        vertical-align: middle;\n",
       "    }\n",
       "\n",
       "    .dataframe tbody tr th {\n",
       "        vertical-align: top;\n",
       "    }\n",
       "\n",
       "    .dataframe thead th {\n",
       "        text-align: right;\n",
       "    }\n",
       "</style>\n",
       "<table border=\"1\" class=\"dataframe\">\n",
       "  <thead>\n",
       "    <tr style=\"text-align: right;\">\n",
       "      <th></th>\n",
       "      <th>$C_i^D$</th>\n",
       "      <th>$c_i^E$</th>\n",
       "      <th>degree</th>\n",
       "      <th>priorates</th>\n",
       "      <th>wealth</th>\n",
       "      <th>$C_i^C$</th>\n",
       "    </tr>\n",
       "  </thead>\n",
       "  <tbody>\n",
       "    <tr>\n",
       "      <th>Medici</th>\n",
       "      <td>0.400000</td>\n",
       "      <td>4.303154e-01</td>\n",
       "      <td>6</td>\n",
       "      <td>53</td>\n",
       "      <td>103</td>\n",
       "      <td>0.560000</td>\n",
       "    </tr>\n",
       "    <tr>\n",
       "      <th>Guadagni</th>\n",
       "      <td>0.266667</td>\n",
       "      <td>2.891172e-01</td>\n",
       "      <td>4</td>\n",
       "      <td>21</td>\n",
       "      <td>8</td>\n",
       "      <td>0.466667</td>\n",
       "    </tr>\n",
       "    <tr>\n",
       "      <th>Strozzi</th>\n",
       "      <td>0.266667</td>\n",
       "      <td>3.559730e-01</td>\n",
       "      <td>4</td>\n",
       "      <td>74</td>\n",
       "      <td>146</td>\n",
       "      <td>0.437500</td>\n",
       "    </tr>\n",
       "    <tr>\n",
       "      <th>Albizzi</th>\n",
       "      <td>0.200000</td>\n",
       "      <td>2.439605e-01</td>\n",
       "      <td>3</td>\n",
       "      <td>65</td>\n",
       "      <td>36</td>\n",
       "      <td>0.482759</td>\n",
       "    </tr>\n",
       "    <tr>\n",
       "      <th>Bischeri</th>\n",
       "      <td>0.200000</td>\n",
       "      <td>2.827944e-01</td>\n",
       "      <td>3</td>\n",
       "      <td>12</td>\n",
       "      <td>44</td>\n",
       "      <td>0.400000</td>\n",
       "    </tr>\n",
       "    <tr>\n",
       "      <th>Castellani</th>\n",
       "      <td>0.200000</td>\n",
       "      <td>2.590200e-01</td>\n",
       "      <td>3</td>\n",
       "      <td>22</td>\n",
       "      <td>20</td>\n",
       "      <td>0.388889</td>\n",
       "    </tr>\n",
       "    <tr>\n",
       "      <th>Peruzzi</th>\n",
       "      <td>0.200000</td>\n",
       "      <td>2.757224e-01</td>\n",
       "      <td>3</td>\n",
       "      <td>42</td>\n",
       "      <td>49</td>\n",
       "      <td>0.368421</td>\n",
       "    </tr>\n",
       "    <tr>\n",
       "      <th>Ridolfi</th>\n",
       "      <td>0.200000</td>\n",
       "      <td>3.415544e-01</td>\n",
       "      <td>3</td>\n",
       "      <td>38</td>\n",
       "      <td>27</td>\n",
       "      <td>0.500000</td>\n",
       "    </tr>\n",
       "    <tr>\n",
       "      <th>Tornabuoni</th>\n",
       "      <td>0.200000</td>\n",
       "      <td>3.258467e-01</td>\n",
       "      <td>3</td>\n",
       "      <td>n/a</td>\n",
       "      <td>48</td>\n",
       "      <td>0.482759</td>\n",
       "    </tr>\n",
       "    <tr>\n",
       "      <th>Barbadori</th>\n",
       "      <td>0.133333</td>\n",
       "      <td>2.117057e-01</td>\n",
       "      <td>2</td>\n",
       "      <td>n/a</td>\n",
       "      <td>55</td>\n",
       "      <td>0.437500</td>\n",
       "    </tr>\n",
       "    <tr>\n",
       "      <th>Salviati</th>\n",
       "      <td>0.133333</td>\n",
       "      <td>1.459208e-01</td>\n",
       "      <td>2</td>\n",
       "      <td>35</td>\n",
       "      <td>10</td>\n",
       "      <td>0.388889</td>\n",
       "    </tr>\n",
       "    <tr>\n",
       "      <th>Acciaiuoli</th>\n",
       "      <td>0.066667</td>\n",
       "      <td>1.321573e-01</td>\n",
       "      <td>1</td>\n",
       "      <td>53</td>\n",
       "      <td>10</td>\n",
       "      <td>0.368421</td>\n",
       "    </tr>\n",
       "    <tr>\n",
       "      <th>Ginori</th>\n",
       "      <td>0.066667</td>\n",
       "      <td>7.492453e-02</td>\n",
       "      <td>1</td>\n",
       "      <td>n/a</td>\n",
       "      <td>32</td>\n",
       "      <td>0.333333</td>\n",
       "    </tr>\n",
       "    <tr>\n",
       "      <th>Lamberteschi</th>\n",
       "      <td>0.066667</td>\n",
       "      <td>8.879253e-02</td>\n",
       "      <td>1</td>\n",
       "      <td>0</td>\n",
       "      <td>42</td>\n",
       "      <td>0.325581</td>\n",
       "    </tr>\n",
       "    <tr>\n",
       "      <th>Pazzi</th>\n",
       "      <td>0.066667</td>\n",
       "      <td>4.481494e-02</td>\n",
       "      <td>1</td>\n",
       "      <td>n/a</td>\n",
       "      <td>48</td>\n",
       "      <td>0.285714</td>\n",
       "    </tr>\n",
       "    <tr>\n",
       "      <th>Pucci</th>\n",
       "      <td>0.000000</td>\n",
       "      <td>1.521093e-24</td>\n",
       "      <td>0</td>\n",
       "      <td>0</td>\n",
       "      <td>3</td>\n",
       "      <td>NaN</td>\n",
       "    </tr>\n",
       "  </tbody>\n",
       "</table>\n",
       "</div>"
      ],
      "text/plain": [
       "               $C_i^D$       $c_i^E$  degree priorates  wealth   $C_i^C$\n",
       "Medici        0.400000  4.303154e-01       6        53     103  0.560000\n",
       "Guadagni      0.266667  2.891172e-01       4        21       8  0.466667\n",
       "Strozzi       0.266667  3.559730e-01       4        74     146  0.437500\n",
       "Albizzi       0.200000  2.439605e-01       3        65      36  0.482759\n",
       "Bischeri      0.200000  2.827944e-01       3        12      44  0.400000\n",
       "Castellani    0.200000  2.590200e-01       3        22      20  0.388889\n",
       "Peruzzi       0.200000  2.757224e-01       3        42      49  0.368421\n",
       "Ridolfi       0.200000  3.415544e-01       3        38      27  0.500000\n",
       "Tornabuoni    0.200000  3.258467e-01       3       n/a      48  0.482759\n",
       "Barbadori     0.133333  2.117057e-01       2       n/a      55  0.437500\n",
       "Salviati      0.133333  1.459208e-01       2        35      10  0.388889\n",
       "Acciaiuoli    0.066667  1.321573e-01       1        53      10  0.368421\n",
       "Ginori        0.066667  7.492453e-02       1       n/a      32  0.333333\n",
       "Lamberteschi  0.066667  8.879253e-02       1         0      42  0.325581\n",
       "Pazzi         0.066667  4.481494e-02       1       n/a      48  0.285714\n",
       "Pucci         0.000000  1.521093e-24       0         0       3       NaN"
      ]
     },
     "execution_count": 13,
     "metadata": {},
     "output_type": "execute_result"
    }
   ],
   "source": [
    "pd.DataFrame.from_dict(\n",
    "    dict(G.nodes(data=True)), \n",
    "    orient='index'\n",
    ").sort_values('degree', ascending=False)"
   ]
  },
  {
   "cell_type": "markdown",
   "metadata": {},
   "source": [
    "## Betweenness Centrality"
   ]
  },
  {
   "cell_type": "markdown",
   "metadata": {},
   "source": [
    "When interactions between non-adjacent agents in a network depend\n",
    "on middle men (on shortest paths between these agents), power comes\n",
    "to those in the middle.  Betweenness centrality measures centrality\n",
    "in terms of the number of shortest paths a node lies on."
   ]
  },
  {
   "cell_type": "markdown",
   "metadata": {},
   "source": [
    "<div class=\"alert alert-warning\">\n",
    "    \n",
    "**Defintion (Betweenness Centrality).**\n",
    "In a simple, connected graph $G$, the **betweenness centrality** $c_i^B$ of node $i$\n",
    "is defined as\n",
    "$$\n",
    "c_i^B = \\sum_{j \\neq i} \\sum_{k \\neq i} \\frac{n_{jk}(i)}{n_{jk}},\n",
    "$$\n",
    "where $n_{jk}$ denotes the **number** of shortest paths from\n",
    "node $j$ to node $k$, and where $n_{jk}(i)$ denotes the\n",
    "number of those shortest paths **passing through** node $i$.\n",
    "\n",
    "The **normalized betweenness centrality** of node $i$, defined as\n",
    "$$\n",
    "C_i^B = \\frac{c_i^B}{(n-1)(n-2)}\n",
    "$$\n",
    "takes values in the interval $[0, 1]$.\n",
    "</div>"
   ]
  },
  {
   "cell_type": "markdown",
   "metadata": {},
   "source": [
    "**BFS once more.**  This time as a python function, which returns a **dictionary** that contains, for each node $y$, a list of **immediate predecessors** of $y$\n",
    "in a shortest path from $x$ to $y$.  Yes, that's another piece of information that BFS can determine\n",
    "on the fly.  From this, recursively, one can reconstruct **all shortest paths** from $x$ to $y$.\n",
    "We still need to compute the shortest path lengths in order to decide which neighbor $x$\n",
    "actually is a predecessor of $y$: ."
   ]
  },
  {
   "cell_type": "code",
   "execution_count": 14,
   "metadata": {},
   "outputs": [],
   "source": [
    "def predecessors(G, node):\n",
    "    \n",
    "    # 1. init: set up the two dictionaries and queue\n",
    "    dists = { node: 0 }\n",
    "    preds = { x : [] for x in G }\n",
    "    q = Queue()\n",
    "    q.put(node)\n",
    "    \n",
    "    # 2. loop\n",
    "    while not q.empty():\n",
    "        x = q.get()\n",
    "        for y in G.neighbors(x):\n",
    "            if y not in dists:\n",
    "                dists[y] = dists[x] + 1\n",
    "                q.put(y)\n",
    "            if dists[y] == dists[x] + 1:\n",
    "                preds[y].append(x)\n",
    "    \n",
    "    # 3. stop here\n",
    "    return preds"
   ]
  },
  {
   "cell_type": "code",
   "execution_count": 15,
   "metadata": {},
   "outputs": [
    {
     "data": {
      "text/plain": [
       "{'Acciaiuoli': ['Medici'],\n",
       " 'Albizzi': ['Medici'],\n",
       " 'Barbadori': ['Medici'],\n",
       " 'Bischeri': ['Guadagni', 'Strozzi'],\n",
       " 'Castellani': ['Barbadori'],\n",
       " 'Ginori': ['Albizzi'],\n",
       " 'Guadagni': ['Albizzi', 'Tornabuoni'],\n",
       " 'Lamberteschi': ['Guadagni'],\n",
       " 'Medici': [],\n",
       " 'Pazzi': ['Salviati'],\n",
       " 'Peruzzi': ['Castellani', 'Strozzi'],\n",
       " 'Ridolfi': ['Medici'],\n",
       " 'Salviati': ['Medici'],\n",
       " 'Strozzi': ['Ridolfi'],\n",
       " 'Tornabuoni': ['Medici']}"
      ]
     },
     "execution_count": 15,
     "metadata": {},
     "output_type": "execute_result"
    }
   ],
   "source": [
    "p = predecessors(GG, 'Medici')\n",
    "p"
   ]
  },
  {
   "cell_type": "code",
   "execution_count": 16,
   "metadata": {},
   "outputs": [
    {
     "data": {
      "image/png": "[encoded data removed]",
      "text/plain": [
       "<Figure size 432x288 with 1 Axes>"
      ]
     },
     "metadata": {},
     "output_type": "display_data"
    }
   ],
   "source": [
    "nx.draw(GG, **opts)"
   ]
  },
  {
   "cell_type": "markdown",
   "metadata": {},
   "source": [
    "Using the predecessor lists with respect to $x$, the shortest paths from $x$ to $y$ can be enumerated recursively:\n",
    "the shortest path from $x$ to itself is the empty path starting an ending at $x$.\n",
    "Else, if $y \\neq x$ then each shortest path from $x$ to $y$ travels through\n",
    "exactly one of $y$'s predecessors ... and ends in $y$."
   ]
  },
  {
   "cell_type": "code",
   "execution_count": 17,
   "metadata": {},
   "outputs": [],
   "source": [
    "def shortest_paths(x, y, pre):\n",
    "    if x == y:\n",
    "        return [[x]]\n",
    "    paths = []\n",
    "    for p in pre[y]:\n",
    "        for path in shortest_paths(x, p, pre):\n",
    "            paths.append(path + [y])\n",
    "    return paths"
   ]
  },
  {
   "cell_type": "code",
   "execution_count": 18,
   "metadata": {},
   "outputs": [
    {
     "data": {
      "text/plain": [
       "[['Medici', 'Albizzi', 'Guadagni', 'Bischeri'],\n",
       " ['Medici', 'Tornabuoni', 'Guadagni', 'Bischeri'],\n",
       " ['Medici', 'Ridolfi', 'Strozzi', 'Bischeri']]"
      ]
     },
     "execution_count": 18,
     "metadata": {},
     "output_type": "execute_result"
    }
   ],
   "source": [
    "shortest_paths('Medici', 'Bischeri', p)"
   ]
  },
  {
   "cell_type": "markdown",
   "metadata": {},
   "source": [
    "* Now compute betweenness:"
   ]
  },
  {
   "cell_type": "code",
   "execution_count": 19,
   "metadata": {},
   "outputs": [],
   "source": [
    "between = { x : 0.0 for x in GG }"
   ]
  },
  {
   "cell_type": "code",
   "execution_count": 20,
   "metadata": {},
   "outputs": [],
   "source": [
    "for x in GG:\n",
    "    pre = predecessors(GG, x)\n",
    "    for y in GG:\n",
    "        paths = shortest_paths(x, y, pre)\n",
    "        njk = len(paths)*(n-1)*(n-2)\n",
    "        for p in paths:\n",
    "            for z in p[1:-1]:  # exclude endpoints\n",
    "                between[z] += 1/njk"
   ]
  },
  {
   "cell_type": "code",
   "execution_count": 21,
   "metadata": {},
   "outputs": [
    {
     "data": {
      "text/plain": [
       "{'Acciaiuoli': 0.0,\n",
       " 'Albizzi': 0.2124542124542123,\n",
       " 'Barbadori': 0.09340659340659344,\n",
       " 'Bischeri': 0.10439560439560439,\n",
       " 'Castellani': 0.05494505494505494,\n",
       " 'Ginori': 0.0,\n",
       " 'Guadagni': 0.25457875457875445,\n",
       " 'Lamberteschi': 0.0,\n",
       " 'Medici': 0.521978021978021,\n",
       " 'Pazzi': 0.0,\n",
       " 'Peruzzi': 0.02197802197802198,\n",
       " 'Ridolfi': 0.11355311355311352,\n",
       " 'Salviati': 0.14285714285714285,\n",
       " 'Strozzi': 0.10256410256410255,\n",
       " 'Tornabuoni': 0.09157509157509156}"
      ]
     },
     "execution_count": 21,
     "metadata": {},
     "output_type": "execute_result"
    }
   ],
   "source": [
    "between"
   ]
  },
  {
   "cell_type": "code",
   "execution_count": 22,
   "metadata": {},
   "outputs": [
    {
     "data": {
      "text/plain": [
       "{'Acciaiuoli': 0.0,\n",
       " 'Albizzi': 0.21245421245421245,\n",
       " 'Barbadori': 0.09340659340659341,\n",
       " 'Bischeri': 0.1043956043956044,\n",
       " 'Castellani': 0.05494505494505495,\n",
       " 'Ginori': 0.0,\n",
       " 'Guadagni': 0.25457875457875456,\n",
       " 'Lamberteschi': 0.0,\n",
       " 'Medici': 0.521978021978022,\n",
       " 'Pazzi': 0.0,\n",
       " 'Peruzzi': 0.02197802197802198,\n",
       " 'Ridolfi': 0.11355311355311355,\n",
       " 'Salviati': 0.14285714285714288,\n",
       " 'Strozzi': 0.10256410256410257,\n",
       " 'Tornabuoni': 0.09157509157509158}"
      ]
     },
     "execution_count": 22,
     "metadata": {},
     "output_type": "execute_result"
    }
   ],
   "source": [
    "nx.betweenness_centrality(GG)"
   ]
  },
  {
   "cell_type": "code",
   "execution_count": 23,
   "metadata": {},
   "outputs": [
    {
     "data": {
      "image/png": "[encoded data removed]",
      "text/plain": [
       "<Figure size 432x288 with 1 Axes>"
      ]
     },
     "metadata": {},
     "output_type": "display_data"
    }
   ],
   "source": [
    "nx.draw(GG, **opts)"
   ]
  },
  {
   "cell_type": "markdown",
   "metadata": {},
   "source": [
    "* Finally, let's add the normalized betweenness centralities as attributes to the\n",
    "nodes of the graph, and display the resulting table."
   ]
  },
  {
   "cell_type": "code",
   "execution_count": 24,
   "metadata": {},
   "outputs": [],
   "source": [
    "nx.set_node_attributes(G, between, '$C_i^B$')"
   ]
  },
  {
   "cell_type": "code",
   "execution_count": 25,
   "metadata": {},
   "outputs": [
    {
     "data": {
      "text/html": [
       "<div>\n",
       "<style scoped>\n",
       "    .dataframe tbody tr th:only-of-type {\n",
       "        vertical-align: middle;\n",
       "    }\n",
       "\n",
       "    .dataframe tbody tr th {\n",
       "        vertical-align: top;\n",
       "    }\n",
       "\n",
       "    .dataframe thead th {\n",
       "        text-align: right;\n",
       "    }\n",
       "</style>\n",
       "<table border=\"1\" class=\"dataframe\">\n",
       "  <thead>\n",
       "    <tr style=\"text-align: right;\">\n",
       "      <th></th>\n",
       "      <th>$C_i^D$</th>\n",
       "      <th>$c_i^E$</th>\n",
       "      <th>degree</th>\n",
       "      <th>priorates</th>\n",
       "      <th>wealth</th>\n",
       "      <th>$C_i^C$</th>\n",
       "      <th>$C_i^B$</th>\n",
       "    </tr>\n",
       "  </thead>\n",
       "  <tbody>\n",
       "    <tr>\n",
       "      <th>Medici</th>\n",
       "      <td>0.400000</td>\n",
       "      <td>4.303154e-01</td>\n",
       "      <td>6</td>\n",
       "      <td>53</td>\n",
       "      <td>103</td>\n",
       "      <td>0.560000</td>\n",
       "      <td>0.521978</td>\n",
       "    </tr>\n",
       "    <tr>\n",
       "      <th>Guadagni</th>\n",
       "      <td>0.266667</td>\n",
       "      <td>2.891172e-01</td>\n",
       "      <td>4</td>\n",
       "      <td>21</td>\n",
       "      <td>8</td>\n",
       "      <td>0.466667</td>\n",
       "      <td>0.254579</td>\n",
       "    </tr>\n",
       "    <tr>\n",
       "      <th>Strozzi</th>\n",
       "      <td>0.266667</td>\n",
       "      <td>3.559730e-01</td>\n",
       "      <td>4</td>\n",
       "      <td>74</td>\n",
       "      <td>146</td>\n",
       "      <td>0.437500</td>\n",
       "      <td>0.102564</td>\n",
       "    </tr>\n",
       "    <tr>\n",
       "      <th>Albizzi</th>\n",
       "      <td>0.200000</td>\n",
       "      <td>2.439605e-01</td>\n",
       "      <td>3</td>\n",
       "      <td>65</td>\n",
       "      <td>36</td>\n",
       "      <td>0.482759</td>\n",
       "      <td>0.212454</td>\n",
       "    </tr>\n",
       "    <tr>\n",
       "      <th>Bischeri</th>\n",
       "      <td>0.200000</td>\n",
       "      <td>2.827944e-01</td>\n",
       "      <td>3</td>\n",
       "      <td>12</td>\n",
       "      <td>44</td>\n",
       "      <td>0.400000</td>\n",
       "      <td>0.104396</td>\n",
       "    </tr>\n",
       "    <tr>\n",
       "      <th>Castellani</th>\n",
       "      <td>0.200000</td>\n",
       "      <td>2.590200e-01</td>\n",
       "      <td>3</td>\n",
       "      <td>22</td>\n",
       "      <td>20</td>\n",
       "      <td>0.388889</td>\n",
       "      <td>0.054945</td>\n",
       "    </tr>\n",
       "    <tr>\n",
       "      <th>Peruzzi</th>\n",
       "      <td>0.200000</td>\n",
       "      <td>2.757224e-01</td>\n",
       "      <td>3</td>\n",
       "      <td>42</td>\n",
       "      <td>49</td>\n",
       "      <td>0.368421</td>\n",
       "      <td>0.021978</td>\n",
       "    </tr>\n",
       "    <tr>\n",
       "      <th>Ridolfi</th>\n",
       "      <td>0.200000</td>\n",
       "      <td>3.415544e-01</td>\n",
       "      <td>3</td>\n",
       "      <td>38</td>\n",
       "      <td>27</td>\n",
       "      <td>0.500000</td>\n",
       "      <td>0.113553</td>\n",
       "    </tr>\n",
       "    <tr>\n",
       "      <th>Tornabuoni</th>\n",
       "      <td>0.200000</td>\n",
       "      <td>3.258467e-01</td>\n",
       "      <td>3</td>\n",
       "      <td>n/a</td>\n",
       "      <td>48</td>\n",
       "      <td>0.482759</td>\n",
       "      <td>0.091575</td>\n",
       "    </tr>\n",
       "    <tr>\n",
       "      <th>Barbadori</th>\n",
       "      <td>0.133333</td>\n",
       "      <td>2.117057e-01</td>\n",
       "      <td>2</td>\n",
       "      <td>n/a</td>\n",
       "      <td>55</td>\n",
       "      <td>0.437500</td>\n",
       "      <td>0.093407</td>\n",
       "    </tr>\n",
       "    <tr>\n",
       "      <th>Salviati</th>\n",
       "      <td>0.133333</td>\n",
       "      <td>1.459208e-01</td>\n",
       "      <td>2</td>\n",
       "      <td>35</td>\n",
       "      <td>10</td>\n",
       "      <td>0.388889</td>\n",
       "      <td>0.142857</td>\n",
       "    </tr>\n",
       "    <tr>\n",
       "      <th>Acciaiuoli</th>\n",
       "      <td>0.066667</td>\n",
       "      <td>1.321573e-01</td>\n",
       "      <td>1</td>\n",
       "      <td>53</td>\n",
       "      <td>10</td>\n",
       "      <td>0.368421</td>\n",
       "      <td>0.000000</td>\n",
       "    </tr>\n",
       "    <tr>\n",
       "      <th>Ginori</th>\n",
       "      <td>0.066667</td>\n",
       "      <td>7.492453e-02</td>\n",
       "      <td>1</td>\n",
       "      <td>n/a</td>\n",
       "      <td>32</td>\n",
       "      <td>0.333333</td>\n",
       "      <td>0.000000</td>\n",
       "    </tr>\n",
       "    <tr>\n",
       "      <th>Lamberteschi</th>\n",
       "      <td>0.066667</td>\n",
       "      <td>8.879253e-02</td>\n",
       "      <td>1</td>\n",
       "      <td>0</td>\n",
       "      <td>42</td>\n",
       "      <td>0.325581</td>\n",
       "      <td>0.000000</td>\n",
       "    </tr>\n",
       "    <tr>\n",
       "      <th>Pazzi</th>\n",
       "      <td>0.066667</td>\n",
       "      <td>4.481494e-02</td>\n",
       "      <td>1</td>\n",
       "      <td>n/a</td>\n",
       "      <td>48</td>\n",
       "      <td>0.285714</td>\n",
       "      <td>0.000000</td>\n",
       "    </tr>\n",
       "    <tr>\n",
       "      <th>Pucci</th>\n",
       "      <td>0.000000</td>\n",
       "      <td>1.521093e-24</td>\n",
       "      <td>0</td>\n",
       "      <td>0</td>\n",
       "      <td>3</td>\n",
       "      <td>NaN</td>\n",
       "      <td>NaN</td>\n",
       "    </tr>\n",
       "  </tbody>\n",
       "</table>\n",
       "</div>"
      ],
      "text/plain": [
       "               $C_i^D$       $c_i^E$  degree priorates  wealth   $C_i^C$  \\\n",
       "Medici        0.400000  4.303154e-01       6        53     103  0.560000   \n",
       "Guadagni      0.266667  2.891172e-01       4        21       8  0.466667   \n",
       "Strozzi       0.266667  3.559730e-01       4        74     146  0.437500   \n",
       "Albizzi       0.200000  2.439605e-01       3        65      36  0.482759   \n",
       "Bischeri      0.200000  2.827944e-01       3        12      44  0.400000   \n",
       "Castellani    0.200000  2.590200e-01       3        22      20  0.388889   \n",
       "Peruzzi       0.200000  2.757224e-01       3        42      49  0.368421   \n",
       "Ridolfi       0.200000  3.415544e-01       3        38      27  0.500000   \n",
       "Tornabuoni    0.200000  3.258467e-01       3       n/a      48  0.482759   \n",
       "Barbadori     0.133333  2.117057e-01       2       n/a      55  0.437500   \n",
       "Salviati      0.133333  1.459208e-01       2        35      10  0.388889   \n",
       "Acciaiuoli    0.066667  1.321573e-01       1        53      10  0.368421   \n",
       "Ginori        0.066667  7.492453e-02       1       n/a      32  0.333333   \n",
       "Lamberteschi  0.066667  8.879253e-02       1         0      42  0.325581   \n",
       "Pazzi         0.066667  4.481494e-02       1       n/a      48  0.285714   \n",
       "Pucci         0.000000  1.521093e-24       0         0       3       NaN   \n",
       "\n",
       "               $C_i^B$  \n",
       "Medici        0.521978  \n",
       "Guadagni      0.254579  \n",
       "Strozzi       0.102564  \n",
       "Albizzi       0.212454  \n",
       "Bischeri      0.104396  \n",
       "Castellani    0.054945  \n",
       "Peruzzi       0.021978  \n",
       "Ridolfi       0.113553  \n",
       "Tornabuoni    0.091575  \n",
       "Barbadori     0.093407  \n",
       "Salviati      0.142857  \n",
       "Acciaiuoli    0.000000  \n",
       "Ginori        0.000000  \n",
       "Lamberteschi  0.000000  \n",
       "Pazzi         0.000000  \n",
       "Pucci              NaN  "
      ]
     },
     "execution_count": 25,
     "metadata": {},
     "output_type": "execute_result"
    }
   ],
   "source": [
    "pd.DataFrame.from_dict(\n",
    "    dict(G.nodes(data=True)), \n",
    "    orient='index'\n",
    ").sort_values('degree', ascending=False)"
   ]
  },
  {
   "cell_type": "markdown",
   "metadata": {},
   "source": [
    "##  Code Corner"
   ]
  },
  {
   "cell_type": "markdown",
   "metadata": {},
   "source": [
    "### `networkx`"
   ]
  },
  {
   "cell_type": "markdown",
   "metadata": {},
   "source": [
    "* `read_yaml`: [[doc]](https://networkx.github.io/documentation/stable/reference/readwrite/generated/networkx.readwrite.nx_yaml.read_yaml.html#networkx.readwrite.nx_yaml.read_yaml)\n",
    "\n",
    "\n",
    "* `closeness_centrality`: [[doc]](https://networkx.github.io/documentation/stable/reference/algorithms/generated/networkx.algorithms.centrality.closeness_centrality.html#networkx.algorithms.centrality.closeness_centrality)\n",
    "   \n",
    "    \n",
    "* `betweenness_centrality`: [[doc]](https://networkx.github.io/documentation/stable/reference/algorithms/generated/networkx.algorithms.centrality.betweenness_centrality.html#networkx.algorithms.centrality.betweenness_centrality)"
   ]
  },
  {
   "cell_type": "markdown",
   "metadata": {},
   "source": [
    "## Exercises\n",
    "\n",
    "1. Recall that $C_i^C$ is the normalized closeness centrality of node $i$.  Why\n",
    "   is $0 \\leq C_i^C \\leq 1$?  When is $C_i^C = 1$?  Is $C_i^C$ ever $0$?\n",
    "\n",
    "2. Recall that $C_i^B$ is the normalized betweenness centrality of node $i$.\n",
    "   Why is $0 \\leq C_i^B \\leq 1$?  When is $C_i^B = 1$?  Is $C_i^B$ ever $0$?\n",
    "   \n",
    "3. Determine the closeness centrality and the betweenness centrality of the nodes in some\n",
    "   random trees.  What do you observe?\n",
    "   \n",
    "3. Compute the closeness centrality and the betweenness centrality of the nodes of the Petersen graph.\n",
    "   What do you observe?"
   ]
  },
  {
   "cell_type": "code",
   "execution_count": null,
   "metadata": {},
   "outputs": [],
   "source": []
  }
 ],
 "metadata": {
  "kernelspec": {
   "display_name": "Python 3",
   "language": "python",
   "name": "python3"
  },
  "language_info": {
   "codemirror_mode": {
    "name": "ipython",
    "version": 3
   },
   "file_extension": ".py",
   "mimetype": "text/x-python",
   "name": "python",
   "nbconvert_exporter": "python",
   "pygments_lexer": "ipython3",
   "version": "3.7.6"
  }
 },
 "nbformat": 4,
 "nbformat_minor": 2
}
