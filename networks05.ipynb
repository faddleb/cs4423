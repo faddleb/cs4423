{
 "cells": [
  {
   "cell_type": "markdown",
   "metadata": {},
   "source": [
    "### CS4423 - Networks\n",
    "Prof. Götz Pfeiffer<br />\n",
    "School of Mathematics, Statistics and Applied Mathematics<br />\n",
    "NUI Galway"
   ]
  },
  {
   "cell_type": "markdown",
   "metadata": {},
   "source": [
    "#### 1. Graphs and Graph Theory\n",
    "\n",
    "# Lecture 5: Paths, Trees and Algorithms"
   ]
  },
  {
   "cell_type": "markdown",
   "metadata": {},
   "source": [
    "Sequences of interconnected edges in a  graph are called **paths**,\n",
    "leading to notions of **connectivity** and **distance**.\n",
    "A **tree** is a particularly useful kind of connected graph,\n",
    "that is frequently used as a data structure in Computer Science.\n",
    "\n",
    "Many questions on networks concerning distance and connectivity can\n",
    "be answered by a versatile strategy called **Breadth First Search (BFS)**\n",
    "which effectively grows a **spanning tree** of the underlying graph.\n",
    "\n",
    "We will study **trees** and some classical algorithms for tree traversal.\n",
    "A network has the structure of a tree when it is of a hierarchical nature,\n",
    "like an [ancestry chart](https://en.wikipedia.org/wiki/Pedigree_chart)\n",
    "or a **river network**."
   ]
  },
  {
   "cell_type": "markdown",
   "metadata": {},
   "source": [
    "![A River Network](images/rivers.jpg)\n",
    "\n",
    "[Image from [EPA Maps](https://gis.epa.ie/EPAMaps/)]"
   ]
  },
  {
   "cell_type": "code",
   "execution_count": 1,
   "metadata": {},
   "outputs": [],
   "source": [
    "import networkx as nx\n",
    "import numpy as np\n",
    "import pandas as pd\n",
    "import matplotlib.pyplot as plt "
   ]
  },
  {
   "cell_type": "markdown",
   "metadata": {},
   "source": [
    "## Paths\n",
    "\n",
    "The fundamental notion of **connectivity** in a network is closely\n",
    "related to the notion of **paths** in a graph."
   ]
  },
  {
   "cell_type": "markdown",
   "metadata": {},
   "source": [
    "<div class=\"alert alert-danger\">\n",
    "<b>Definitions.</b>  \n",
    "    <ul>\n",
    "        <li> \n",
    "            A <b>path</b> in a graph $G = (X, E)$ is a sequence of nodes, \n",
    "            where any pair of consecutive nodes in the sequence is (linked by)\n",
    "            an edge in $E$.\n",
    "        </li>\n",
    "        <li>\n",
    "            Such a path can have repeated nodes.  If it doesn't, the path is called a <b>simple path</b>.\n",
    "        </li>\n",
    "        <li>\n",
    "            The <b>length</b> of a path is the number of edges it involves\n",
    "            (that is the number of nodes minus $1$).\n",
    "        </li>\n",
    "        <li>\n",
    "            At each vertex $x \\in X$, there is a unique path of length $0$, \n",
    "            the <b>empty path</b>, consisting of vertex $x$ only.\n",
    "        </li>\n",
    "        <li>\n",
    "            A <b>cycle</b> is a path of length at least $3$ that is a simple path,\n",
    "            except for the first and the last node being the same.\n",
    "        </li>\n",
    "    </ul>\n",
    "</div>"
   ]
  },
  {
   "cell_type": "code",
   "execution_count": 2,
   "metadata": {},
   "outputs": [],
   "source": [
    "nodes = 'ABCDEFGHIJKLM'"
   ]
  },
  {
   "cell_type": "code",
   "execution_count": 3,
   "metadata": {},
   "outputs": [],
   "source": [
    "G = nx.Graph()"
   ]
  },
  {
   "cell_type": "code",
   "execution_count": 4,
   "metadata": {},
   "outputs": [],
   "source": [
    "G.add_nodes_from(nodes)"
   ]
  },
  {
   "cell_type": "code",
   "execution_count": 5,
   "metadata": {},
   "outputs": [
    {
     "data": {
      "text/plain": [
       "['A', 'B', 'C', 'D', 'E', 'F', 'G', 'H', 'I', 'J', 'K', 'L', 'M']"
      ]
     },
     "execution_count": 5,
     "metadata": {},
     "output_type": "execute_result"
    }
   ],
   "source": [
    "list(G.nodes())"
   ]
  },
  {
   "cell_type": "code",
   "execution_count": 6,
   "metadata": {},
   "outputs": [],
   "source": [
    "nodes = 'ABCDEFGHIJKLM'\n",
    "edges = [\n",
    "    'AB', 'CE', 'FG', 'FH', 'GI', 'GJ', 'HJ', 'HL', 'HM', \n",
    "    'IK', 'JK', 'KL', 'LM'\n",
    "]\n",
    "G = nx.Graph()\n",
    "G.add_nodes_from(nodes)\n",
    "G.add_edges_from(edges)"
   ]
  },
  {
   "cell_type": "code",
   "execution_count": 7,
   "metadata": {},
   "outputs": [
    {
     "data": {
      "image/png": "[encoded data removed]",
      "text/plain": [
       "<Figure size 432x288 with 1 Axes>"
      ]
     },
     "metadata": {},
     "output_type": "display_data"
    }
   ],
   "source": [
    "opts = { \"with_labels\": True, \"node_color\": 'y' }\n",
    "nx.draw(G, **opts)"
   ]
  },
  {
   "cell_type": "markdown",
   "metadata": {},
   "source": [
    "* $(F, G, I)$ is a path in the graph above, and $(H, J, K, L, H)$ is a cycle."
   ]
  },
  {
   "cell_type": "markdown",
   "metadata": {},
   "source": [
    "* A cycle in a simple graph provides, for any two nodes on that\n",
    "cycle, (at least) two different paths from one to the other.\n",
    "\n",
    "* Note that each edge (and node) of the 1970 Internet graph belongs to\n",
    "a cycle.  This makes the other way around the cycle an alternative\n",
    "route in case one of the edges should fail.\n",
    "\n",
    "* (In a *directed* network, paths are directed, too.\n",
    "A path from a vertex $x$ to a vertex $y$ is\n",
    "a sequence of vertices $x = x_0, x_1, \\dots, x_k = y$\n",
    "such that, for any $i = 1, \\dots, k$, there is\n",
    "an edge from $x_{i-1}$ to $x_i$ in the graph.)\n",
    "\n"
   ]
  },
  {
   "cell_type": "markdown",
   "metadata": {},
   "source": [
    "## Connected Components\n",
    "\n",
    "Communication and transportation networks tend to be connected, as\n",
    "this is their main purpose: to connect."
   ]
  },
  {
   "cell_type": "markdown",
   "metadata": {},
   "source": [
    "<div class=\"alert alert-danger\">\n",
    "<b>Definition.</b> \n",
    "    <ul>\n",
    "        <li>A simple graph is <b>connected</b> if, for\n",
    "every pair of nodes, there is a path between them.\n",
    "        </li>\n",
    "        <li>\n",
    "If a graph is not connected, it naturally breaks into pieces,\n",
    "its <b>connected components</b>.\n",
    "        </li>\n",
    "    </ul>\n",
    "</div>"
   ]
  },
  {
   "cell_type": "markdown",
   "metadata": {},
   "source": [
    "* The connected components of the graph below are the\n",
    "node sets $\\{A, B\\}$, $\\{C, E\\}$, $\\{D\\}$, and $\\{F,G,H,I,J,K,L,M\\}$.\n",
    "* Note that a component can consist of a single node only."
   ]
  },
  {
   "cell_type": "code",
   "execution_count": 8,
   "metadata": {},
   "outputs": [
    {
     "data": {
      "text/plain": [
       "[{'A', 'B'}, {'C', 'E'}, {'D'}, {'F', 'G', 'H', 'I', 'J', 'K', 'L', 'M'}]"
      ]
     },
     "execution_count": 8,
     "metadata": {},
     "output_type": "execute_result"
    }
   ],
   "source": [
    "list(nx.connected_components(G))"
   ]
  },
  {
   "cell_type": "markdown",
   "metadata": {},
   "source": [
    "**Note.** \n",
    "The relation 'there is a **path** from $x$ to $y$ on the node set $X$ of a\n",
    "graph is the **transitive closure** of the graph relation 'there is an\n",
    "**edge** between $x$ and $y$'.  It is \n",
    "\n",
    "* **reflexive** (as each node $x$ is\n",
    "connected to itself by the zero length path starting and ending at\n",
    "$x$), \n",
    "\n",
    "* **symmetric** (as a path from $x$ to $y$ can be used backwards as\n",
    "a path from $y$ to $x$), \n",
    "\n",
    "* and **transitive** (as a path from $x$ to $y$ and\n",
    "a path from $y$ to $z$ together make up a path from $x$ to $z$), \n",
    "\n",
    "hence\n",
    "an **equivalence relation**.\n",
    "The connected components of the graph are\n",
    "the parts (equivalence classes) of the corresponding **partition** of $X$."
   ]
  },
  {
   "cell_type": "markdown",
   "metadata": {},
   "source": [
    "##  Trees"
   ]
  },
  {
   "cell_type": "markdown",
   "metadata": {},
   "source": [
    "* A graph is called **acyclic** if it does not contain any cycles."
   ]
  },
  {
   "cell_type": "markdown",
   "metadata": {},
   "source": [
    "<div class=\"alert alert-danger\">\n",
    "    <ul>\n",
    "        <li>\n",
    "    A <b>tree</b> is a (simple) graph that is <b>connected</b> and <b>acyclic</b>.\n",
    "        </li>\n",
    "        <li>\n",
    "            A <b>forest</b> is a graph whose connected components are all trees.\n",
    "        </li>\n",
    "    </ul>         \n",
    "</div>\n",
    "\n",
    "In other words, between any two vertices in a tree there is **exactly one simple path**."
   ]
  },
  {
   "cell_type": "markdown",
   "metadata": {},
   "source": [
    "Trees can be characterized in many different ways.\n",
    "\n",
    "<div class=\"alert alert-warning\">\n",
    "\n",
    "**Theorem.**  Let $G = (X, E)$ be a (simple) graph of order $n = |X|$\n",
    "and size $m = |E|$.\n",
    "Then the following are equivalent:\n",
    "\n",
    "* $G$ is a tree (i.e. acyclic and connected);\n",
    "\n",
    "* $G$ is connected and $m = n-1$;\n",
    "\n",
    "* $G$ is a minimally connected graph (i.e., removing any edge will disconnect $G$);\n",
    "\n",
    "* $G$ is acyclic and $m = n-1$;\n",
    "\n",
    "* $G$ is a maximally acyclic graph (i.e., adding any edge will introduce a cycle in $G$).\n",
    "</div>"
   ]
  },
  {
   "cell_type": "markdown",
   "metadata": {},
   "source": [
    "## Ordered and Rooted Trees"
   ]
  },
  {
   "cell_type": "markdown",
   "metadata": {},
   "source": [
    "In some applications it is useful to specify additional attributes of a tree."
   ]
  },
  {
   "cell_type": "markdown",
   "metadata": {},
   "source": [
    "* A **rooted tree** is a tree in which one vertex has been designated the **root**.\n",
    "\n",
    "* In a rooted tree, except for the root itself, each vertex $x$ has a unique **parent**:\n",
    "  the unique neighbor that lies on the unique simple path from $x$ to the root.\n",
    "  \n",
    "* The **children** of vertex $x$ are all thie nodes it is the parent of.\n",
    "\n",
    "* In an **ordered rooted tree** (ORT) an explicit order is specified on the children of each node,\n",
    "corresponding to an embedding ot the tree in the plane.\n"
   ]
  },
  {
   "cell_type": "markdown",
   "metadata": {},
   "source": [
    "Algebraic formulas, computer programs can conveniently be represented by ORTs known as [**abstract syntax trees**]( https://en.wikipedia.org/wiki/Abstract_syntax_tree)."
   ]
  },
  {
   "cell_type": "markdown",
   "metadata": {},
   "source": [
    "## Random Trees"
   ]
  },
  {
   "cell_type": "markdown",
   "metadata": {},
   "source": [
    "<div class=\"alert alert-danger\">\n",
    "    <b>Theorem (Cayley's Formula).</b>\n",
    "    There are exactly $n^{n-2}$ distinct (labelled) trees on the $n$-element vertex set \n",
    "    $X = \\{0, 1, 2, \\dots, n-1\\}$, if $n > 1$.\n",
    "</div>\n",
    "\n",
    "There is one (trivial) tree on $1$ vertex, but there is no tree on $0$ vertices.  Some values for $n > 1$:\n",
    "    "
   ]
  },
  {
   "cell_type": "code",
   "execution_count": 9,
   "metadata": {},
   "outputs": [
    {
     "data": {
      "text/html": [
       "<div>\n",
       "<style scoped>\n",
       "    .dataframe tbody tr th:only-of-type {\n",
       "        vertical-align: middle;\n",
       "    }\n",
       "\n",
       "    .dataframe tbody tr th {\n",
       "        vertical-align: top;\n",
       "    }\n",
       "\n",
       "    .dataframe thead th {\n",
       "        text-align: right;\n",
       "    }\n",
       "</style>\n",
       "<table border=\"1\" class=\"dataframe\">\n",
       "  <thead>\n",
       "    <tr style=\"text-align: right;\">\n",
       "      <th></th>\n",
       "      <th>2</th>\n",
       "      <th>3</th>\n",
       "      <th>4</th>\n",
       "      <th>5</th>\n",
       "      <th>6</th>\n",
       "      <th>7</th>\n",
       "      <th>8</th>\n",
       "      <th>9</th>\n",
       "    </tr>\n",
       "  </thead>\n",
       "  <tbody>\n",
       "    <tr>\n",
       "      <th></th>\n",
       "      <td>1</td>\n",
       "      <td>3</td>\n",
       "      <td>16</td>\n",
       "      <td>125</td>\n",
       "      <td>1296</td>\n",
       "      <td>16807</td>\n",
       "      <td>262144</td>\n",
       "      <td>4782969</td>\n",
       "    </tr>\n",
       "  </tbody>\n",
       "</table>\n",
       "</div>"
      ],
      "text/plain": [
       "  2  3   4    5     6      7       8        9\n",
       "  1  3  16  125  1296  16807  262144  4782969"
      ]
     },
     "execution_count": 9,
     "metadata": {},
     "output_type": "execute_result"
    }
   ],
   "source": [
    "domain = range(2, 10)\n",
    "pd.DataFrame([n**(n-2) for n in domain], index=domain, columns=[\"\"], dtype=int).transpose()"
   ]
  },
  {
   "cell_type": "markdown",
   "metadata": {},
   "source": [
    "**Proof.** Each tree on $X = \\{0, 1, 2, \\dots, n-1\\}$ corresponds to a unique sequence of\n",
    "$n-2$ elements of $X$, its [**Prüfer Code**](https://en.wikipedia.org/wiki/Pr%C3%BCfer_sequence)."
   ]
  },
  {
   "cell_type": "code",
   "execution_count": 10,
   "metadata": {},
   "outputs": [],
   "source": [
    "n = 10\n",
    "T = nx.random_tree(n)"
   ]
  },
  {
   "cell_type": "code",
   "execution_count": 11,
   "metadata": {
    "slideshow": {
     "slide_type": "fragment"
    }
   },
   "outputs": [
    {
     "data": {
      "image/png": "[encoded data removed]",
      "text/plain": [
       "<Figure size 432x288 with 1 Axes>"
      ]
     },
     "metadata": {},
     "output_type": "display_data"
    }
   ],
   "source": [
    "opts = { \"with_labels\": True, \"node_color\": 'y' }\n",
    "nx.draw(T, **opts)"
   ]
  },
  {
   "cell_type": "code",
   "execution_count": 12,
   "metadata": {},
   "outputs": [
    {
     "data": {
      "text/plain": [
       "[1, 1, 2, 2, 2, 1, 1, 4, 3, 1]"
      ]
     },
     "execution_count": 12,
     "metadata": {},
     "output_type": "execute_result"
    }
   ],
   "source": [
    "degrees = [T.degree(x) for x in T]\n",
    "degrees"
   ]
  },
  {
   "cell_type": "markdown",
   "metadata": {},
   "source": [
    "How to determine the Prüfer code of a tree $T$ (destructively):\n",
    "\n",
    "* Find the smallest leaf $x$\n",
    "* Record the label $y$ of its unique neighbor\n",
    "* Remove $x$ (and the edge $x - y$) from $T$\n",
    "* Repeat until $T$ has only $2$ nodes left."
   ]
  },
  {
   "cell_type": "code",
   "execution_count": 13,
   "metadata": {},
   "outputs": [],
   "source": [
    "def pruefer_node(tree):\n",
    "    for x in tree:\n",
    "        if tree.degree(x) == 1:\n",
    "            for y in tree[x]:\n",
    "                tree.remove_node(x)\n",
    "                return y"
   ]
  },
  {
   "cell_type": "code",
   "execution_count": 14,
   "metadata": {},
   "outputs": [
    {
     "data": {
      "text/plain": [
       "[8, 4, 7, 2, 3, 7, 8, 7]"
      ]
     },
     "execution_count": 14,
     "metadata": {},
     "output_type": "execute_result"
    }
   ],
   "source": [
    "code = [pruefer_node(T) for k in range(n-2)]\n",
    "code"
   ]
  },
  {
   "cell_type": "markdown",
   "metadata": {},
   "source": [
    "This process destroys the tree `T` almost completely."
   ]
  },
  {
   "cell_type": "code",
   "execution_count": 15,
   "metadata": {},
   "outputs": [
    {
     "name": "stdout",
     "output_type": "stream",
     "text": [
      "[7, 9]\n",
      "[(7, 9)]\n"
     ]
    }
   ],
   "source": [
    "print(T.nodes())\n",
    "print(T.edges())"
   ]
  },
  {
   "cell_type": "code",
   "execution_count": 16,
   "metadata": {},
   "outputs": [],
   "source": [
    "def pruefer_code(tree):\n",
    "    return [pruefer_node(tree) for k in range(tree.order() - 2)]"
   ]
  },
  {
   "cell_type": "markdown",
   "metadata": {},
   "source": [
    "Luckily, the tree can be reconstructed from its Prüfer code.\n",
    "\n",
    "<div class=\"alert alert-info\">\n",
    "<b>Fact:</b> The degree of node $x$ is $1$ plus the number of entries $x$ in the Prüfer code of $T$.\n",
    "    </div>"
   ]
  },
  {
   "cell_type": "code",
   "execution_count": 17,
   "metadata": {},
   "outputs": [
    {
     "data": {
      "text/plain": [
       "[1, 1, 2, 2, 2, 1, 1, 4, 3, 1]"
      ]
     },
     "execution_count": 17,
     "metadata": {},
     "output_type": "execute_result"
    }
   ],
   "source": [
    "ddd = [1 for k in range(n)]\n",
    "for k in code:\n",
    "    ddd[k] += 1\n",
    "ddd"
   ]
  },
  {
   "cell_type": "code",
   "execution_count": 18,
   "metadata": {},
   "outputs": [
    {
     "data": {
      "text/plain": [
       "[1, 1, 2, 2, 2, 1, 1, 4, 3, 1]"
      ]
     },
     "execution_count": 18,
     "metadata": {},
     "output_type": "execute_result"
    }
   ],
   "source": [
    "degrees"
   ]
  },
  {
   "cell_type": "code",
   "execution_count": 19,
   "metadata": {},
   "outputs": [
    {
     "data": {
      "text/plain": [
       "True"
      ]
     },
     "execution_count": 19,
     "metadata": {},
     "output_type": "execute_result"
    }
   ],
   "source": [
    "ddd == degrees"
   ]
  },
  {
   "cell_type": "markdown",
   "metadata": {},
   "source": [
    "How to restore the tree from its Prüfer code:\n",
    "\n",
    "* Start with a graph with vertex set $X = \\{0, 1, 2, \\dots, n-1\\}$ (and no edges yet).\n",
    "* Compute the desired node degrees (defects) from the code.\n",
    "* For each node $y$ in the code find the smallest degree $1$ node $x$ and\n",
    "add the edge $x - y$, then decrease the defects of both $x$ and $y$ by $1$.\n",
    "* Finally, connect the remaining $2$ nodes of defect $1$ by an edge."
   ]
  },
  {
   "cell_type": "code",
   "execution_count": 20,
   "metadata": {},
   "outputs": [
    {
     "name": "stdout",
     "output_type": "stream",
     "text": [
      "[8, 4, 7, 2, 3, 7, 8, 7]\n"
     ]
    },
    {
     "data": {
      "image/png": "[encoded data removed]",
      "text/plain": [
       "<Figure size 432x288 with 1 Axes>"
      ]
     },
     "metadata": {},
     "output_type": "display_data"
    }
   ],
   "source": [
    "T = nx.empty_graph(n)\n",
    "nx.draw(T, **opts)\n",
    "print(code)"
   ]
  },
  {
   "cell_type": "code",
   "execution_count": 21,
   "metadata": {},
   "outputs": [
    {
     "data": {
      "image/png": "[encoded data removed]",
      "text/plain": [
       "<Figure size 432x288 with 8 Axes>"
      ]
     },
     "metadata": {},
     "output_type": "display_data"
    }
   ],
   "source": [
    "# repeat n-2 times:\n",
    "for i in range(n-2):\n",
    "    plt.subplot(n//3, 3, i+1)\n",
    "    y = code.pop(0)\n",
    "    x = ddd.index(1)\n",
    "    # print(ddd, \"Added edge\", x, \"--\", y)\n",
    "    T.add_edge(x, y)\n",
    "    ddd[x] -= 1;  ddd[y] -= 1\n",
    "    nx.draw(T, **opts)"
   ]
  },
  {
   "cell_type": "markdown",
   "metadata": {},
   "source": [
    "Add the final edge:"
   ]
  },
  {
   "cell_type": "code",
   "execution_count": 22,
   "metadata": {},
   "outputs": [
    {
     "name": "stdout",
     "output_type": "stream",
     "text": [
      "[7, 9]\n"
     ]
    },
    {
     "data": {
      "image/png": "[encoded data removed]",
      "text/plain": [
       "<Figure size 432x288 with 1 Axes>"
      ]
     },
     "metadata": {},
     "output_type": "display_data"
    }
   ],
   "source": [
    "e = [x for x in range(n) if ddd[x] == 1]\n",
    "T.add_edge(*e)\n",
    "print(e)\n",
    "nx.draw(T, **opts)"
   ]
  },
  {
   "cell_type": "markdown",
   "metadata": {},
   "source": [
    "Turn the entire procedure into a `python` function:"
   ]
  },
  {
   "cell_type": "code",
   "execution_count": 23,
   "metadata": {},
   "outputs": [],
   "source": [
    "def tree_pruefer(code):\n",
    "\n",
    "    # initialize graph and defects\n",
    "    n = len(code) + 2\n",
    "    tree = nx.empty_graph(n)\n",
    "    defects = [1 for x in tree]\n",
    "    for y in code:\n",
    "        defects[y] += 1\n",
    "        \n",
    "    # add edges\n",
    "    for y in code:\n",
    "        for x in tree:\n",
    "            if defects[x] == 1:\n",
    "                tree.add_edge(x, y)\n",
    "                for z in (x, y):\n",
    "                    defects[z] -= 1\n",
    "                break\n",
    "                \n",
    "    # final edge\n",
    "    e = [x for x in tree if defects[x] == 1]\n",
    "    tree.add_edge(*e)\n",
    "    \n",
    "    return tree"
   ]
  },
  {
   "cell_type": "markdown",
   "metadata": {},
   "source": [
    "* We can now construct a random tree on $n$ nodes from a random Prüfer code of length $n-2$."
   ]
  },
  {
   "cell_type": "code",
   "execution_count": 24,
   "metadata": {},
   "outputs": [],
   "source": [
    "from random import choice"
   ]
  },
  {
   "cell_type": "code",
   "execution_count": 25,
   "metadata": {},
   "outputs": [
    {
     "data": {
      "text/plain": [
       "[7, 5, 7, 9, 4, 7, 9, 3]"
      ]
     },
     "execution_count": 25,
     "metadata": {},
     "output_type": "execute_result"
    }
   ],
   "source": [
    "code = [choice(range(n)) for k in range(n-2)]\n",
    "code"
   ]
  },
  {
   "cell_type": "code",
   "execution_count": 26,
   "metadata": {},
   "outputs": [
    {
     "data": {
      "image/png": "[encoded data removed]",
      "text/plain": [
       "<Figure size 432x288 with 1 Axes>"
      ]
     },
     "metadata": {},
     "output_type": "display_data"
    }
   ],
   "source": [
    "tree = tree_pruefer(code)\n",
    "nx.draw(tree, **opts)"
   ]
  },
  {
   "cell_type": "markdown",
   "metadata": {},
   "source": [
    "Finally, we wrap this up into a `python` function `random_tree`."
   ]
  },
  {
   "cell_type": "code",
   "execution_count": 27,
   "metadata": {},
   "outputs": [],
   "source": [
    "def random_tree(n):\n",
    "    code = [choice(range(n)) for k in range(n-2)]\n",
    "    return tree_pruefer(code)"
   ]
  },
  {
   "cell_type": "code",
   "execution_count": 28,
   "metadata": {},
   "outputs": [
    {
     "data": {
      "image/png": "[encoded data removed]",
      "text/plain": [
       "<Figure size 432x288 with 1 Axes>"
      ]
     },
     "metadata": {},
     "output_type": "display_data"
    }
   ],
   "source": [
    "T = random_tree(20)\n",
    "nx.draw(T, **opts)"
   ]
  },
  {
   "cell_type": "markdown",
   "metadata": {},
   "source": [
    "Of course, `networkx` has its own random trees:"
   ]
  },
  {
   "cell_type": "code",
   "execution_count": 29,
   "metadata": {},
   "outputs": [
    {
     "data": {
      "image/png": "[encoded data removed]",
      "text/plain": [
       "<Figure size 432x288 with 1 Axes>"
      ]
     },
     "metadata": {},
     "output_type": "display_data"
    }
   ],
   "source": [
    "T = nx.random_tree(20)\n",
    "nx.draw(T, **opts)"
   ]
  },
  {
   "cell_type": "markdown",
   "metadata": {},
   "source": [
    "## Depth First Search"
   ]
  },
  {
   "cell_type": "markdown",
   "metadata": {},
   "source": [
    "[DFS](https://en.wikipedia.org/wiki/Depth-first_search)\n",
    "and [BFS](https://en.wikipedia.org/wiki/Breadth-first_search)\n",
    "are simple but efficient tree (and graph) traversal algorithms."
   ]
  },
  {
   "cell_type": "markdown",
   "metadata": {},
   "source": [
    "**DFS**: Given a rooted tree $T$ with root $x$, visit all nodes in the tree.\n",
    "* $S \\gets (x)$\n",
    "* while $S \\neq \\emptyset$:\n",
    "* &nbsp; $y \\gets S$.pop() \n",
    "* &nbsp; visit($y$) \n",
    "* &nbsp; $S$.push($y$.children)\n",
    "\n",
    "Here $S$ is a [**stack**]( (https://en.wikipedia.org/wiki/Stack_(abstract_data_type)) (LIFO):\n",
    "$S$.pop() yields the **newest** entry."
   ]
  },
  {
   "cell_type": "code",
   "execution_count": 30,
   "metadata": {},
   "outputs": [
    {
     "data": {
      "image/png": "[encoded data removed]",
      "text/plain": [
       "<Figure size 432x288 with 1 Axes>"
      ]
     },
     "metadata": {},
     "output_type": "display_data"
    }
   ],
   "source": [
    "T = random_tree(n)\n",
    "nx.draw(T, **opts)"
   ]
  },
  {
   "cell_type": "code",
   "execution_count": 31,
   "metadata": {},
   "outputs": [
    {
     "name": "stdout",
     "output_type": "stream",
     "text": [
      "0 [3]\n",
      "3 [1, 5]\n",
      "5 [1, 7]\n",
      "7 [1, 2]\n",
      "2 [1, 4]\n",
      "4 [1, 8]\n",
      "8 [1, 9]\n",
      "9 [1]\n",
      "1 [6]\n",
      "6 []\n"
     ]
    }
   ],
   "source": [
    "TT = T.copy()\n",
    "x = 0\n",
    "stack = [x]\n",
    "while len(stack) > 0:\n",
    "    y = stack.pop()\n",
    "    stack.extend(TT[y])\n",
    "    TT.remove_node(y)\n",
    "    print(y, stack)\n"
   ]
  },
  {
   "cell_type": "markdown",
   "metadata": {},
   "source": [
    "## Breadth First Search"
   ]
  },
  {
   "cell_type": "markdown",
   "metadata": {},
   "source": [
    "**BFS**: Given a rooted tree $T$ with root $x$, visit all nodes in the tree.\n",
    "* $Q \\gets (x)$\n",
    "* while $Q \\neq \\emptyset$:\n",
    "* &nbsp; $y \\gets Q$.pop() \n",
    "* &nbsp; visit($y$) \n",
    "* &nbsp; $Q$.push($y$.children)\n",
    "\n",
    "Here, $Q$ is a [**queue**](https://en.wikipedia.org/wiki/Queue_(abstract_data_type)) (FIFO):\n",
    "$Q$.pop() yields the **oldest** entry."
   ]
  },
  {
   "cell_type": "code",
   "execution_count": 32,
   "metadata": {},
   "outputs": [
    {
     "name": "stdout",
     "output_type": "stream",
     "text": [
      "0 [3]\n",
      "3 [1, 5]\n",
      "1 [5, 6]\n",
      "5 [6, 7]\n",
      "6 [7]\n",
      "7 [2]\n",
      "2 [4]\n",
      "4 [8]\n",
      "8 [9]\n",
      "9 []\n"
     ]
    }
   ],
   "source": [
    "TT = T.copy()\n",
    "x = 0\n",
    "queue = [x]\n",
    "while len(queue) > 0:\n",
    "    y = queue.pop(0)\n",
    "    queue.extend(TT[y])\n",
    "    TT.remove_node(y)\n",
    "    print(y, queue)"
   ]
  },
  {
   "cell_type": "code",
   "execution_count": 33,
   "metadata": {},
   "outputs": [
    {
     "data": {
      "image/png": "[encoded data removed]",
      "text/plain": [
       "<Figure size 432x288 with 1 Axes>"
      ]
     },
     "metadata": {},
     "output_type": "display_data"
    }
   ],
   "source": [
    "nx.draw(T, **opts)"
   ]
  },
  {
   "cell_type": "markdown",
   "metadata": {},
   "source": [
    "##  Code Corner"
   ]
  },
  {
   "cell_type": "markdown",
   "metadata": {},
   "source": [
    "### `python`"
   ]
  },
  {
   "cell_type": "markdown",
   "metadata": {},
   "source": [
    "* `[].pop` [[doc]](https://docs.python.org/2/tutorial/datastructures.html)"
   ]
  },
  {
   "cell_type": "markdown",
   "metadata": {},
   "source": [
    "* `[].extend`  [[doc]](https://docs.python.org/2/tutorial/datastructures.html)"
   ]
  },
  {
   "cell_type": "markdown",
   "metadata": {},
   "source": [
    "### `networkx`"
   ]
  },
  {
   "cell_type": "markdown",
   "metadata": {},
   "source": [
    "* `connected_components` [[doc]](https://networkx.github.io/documentation/stable/reference/algorithms/component.html)"
   ]
  },
  {
   "cell_type": "markdown",
   "metadata": {},
   "source": [
    "* `random_tree` [[doc]](https://networkx.github.io/documentation/stable/reference/generated/networkx.generators.trees.random_tree.html)"
   ]
  },
  {
   "cell_type": "markdown",
   "metadata": {},
   "source": [
    "* `empty_graph` [[doc]](https://networkx.github.io/documentation/stable/reference/generated/networkx.generators.classic.empty_graph.html)"
   ]
  },
  {
   "cell_type": "markdown",
   "metadata": {},
   "source": [
    "## `matplotlib`"
   ]
  },
  {
   "cell_type": "markdown",
   "metadata": {},
   "source": [
    "* `subplot`: [[doc]](https://matplotlib.org/api/_as_gen/matplotlib.pyplot.subplot.html)"
   ]
  },
  {
   "cell_type": "markdown",
   "metadata": {},
   "source": [
    "## `random`"
   ]
  },
  {
   "cell_type": "markdown",
   "metadata": {},
   "source": [
    "* `choice` [[doc]](https://docs.python.org/3/library/random.html#functions-for-sequences)"
   ]
  },
  {
   "cell_type": "markdown",
   "metadata": {},
   "source": [
    "## Exercises\n",
    "\n",
    "1.  A tree $T$ uniquely determines its Prüfer code,\n",
    "and hence the two nodes that remain after (destructively)\n",
    "computing the code.   What are those two nodes, in terms of\n",
    "properties of $T$, or its Prüfer code?\n",
    "\n",
    "2. What tree has Prüfer code $(0, 1, 2, \\dots, n-3)$?"
   ]
  },
  {
   "cell_type": "code",
   "execution_count": null,
   "metadata": {},
   "outputs": [],
   "source": []
  }
 ],
 "metadata": {
  "kernelspec": {
   "display_name": "Python 3",
   "language": "python",
   "name": "python3"
  },
  "language_info": {
   "codemirror_mode": {
    "name": "ipython",
    "version": 3
   },
   "file_extension": ".py",
   "mimetype": "text/x-python",
   "name": "python",
   "nbconvert_exporter": "python",
   "pygments_lexer": "ipython3",
   "version": "3.7.6"
  }
 },
 "nbformat": 4,
 "nbformat_minor": 1
}
